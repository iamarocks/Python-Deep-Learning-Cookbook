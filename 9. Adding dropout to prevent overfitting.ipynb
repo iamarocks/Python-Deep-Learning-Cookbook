{
 "cells": [
  {
   "cell_type": "markdown",
   "metadata": {},
   "source": [
    "# Adding dropout to prevent overfitting\n",
    "Another popular method for regularization is dropout. A dropout forces a neural network to learn multiple independent\n",
    "representations by randomly removing connections between neurons in the learning phase. For example, when using\n",
    "a dropout of 0.5, the network has to see each example twice before the connection is learned. Therefore, a network with dropout can be seen as an ensemble of networks. <br><br>\n",
    "In the following example, we will improve a model that clearly overfits the training data by adding dropouts."
   ]
  },
  {
   "cell_type": "code",
   "execution_count": 1,
   "metadata": {},
   "outputs": [
    {
     "name": "stderr",
     "output_type": "stream",
     "text": [
      "Using TensorFlow backend.\n"
     ]
    }
   ],
   "source": [
    "import numpy as np \n",
    "import pandas as pd\n",
    "from matplotlib import pyplot as plt\n",
    "\n",
    "from keras.models import Sequential\n",
    "from keras.layers import Dense, Dropout\n",
    "\n",
    "import numpy as np\n",
    "from matplotlib import pyplot as plt"
   ]
  },
  {
   "cell_type": "markdown",
   "metadata": {
    "collapsed": true
   },
   "source": [
    "### Load the dataset and extract features"
   ]
  },
  {
   "cell_type": "code",
   "execution_count": 2,
   "metadata": {
    "collapsed": true
   },
   "outputs": [],
   "source": [
    "data = pd.read_csv('data/hour.csv')\n",
    "# Feature engineering\n",
    "ohe_features = ['season', 'weathersit', 'mnth', 'hr', 'weekday']\n",
    "for feature in ohe_features:\n",
    "    dummies = pd.get_dummies(data[feature], prefix=feature, drop_first=False)\n",
    "    data = pd.concat([data, dummies], axis=1)\n",
    "\n",
    "drop_features = ['instant', 'dteday', 'season', 'weathersit', 'weekday', 'atemp', 'mnth', 'workingday', 'hr', 'casual', 'registered']\n",
    "data = data.drop(drop_features, axis=1)"
   ]
  },
  {
   "cell_type": "markdown",
   "metadata": {},
   "source": [
    "### Normalize features"
   ]
  },
  {
   "cell_type": "code",
   "execution_count": 3,
   "metadata": {
    "collapsed": true
   },
   "outputs": [],
   "source": [
    "norm_features = ['cnt', 'temp', 'hum', 'windspeed']\n",
    "scaled_features = {}\n",
    "for feature in norm_features:\n",
    "    mean, std = data[feature].mean(), data[feature].std()\n",
    "    scaled_features[feature] = [mean, std]\n",
    "    data.loc[:, feature] = (data[feature] - mean)/std"
   ]
  },
  {
   "cell_type": "markdown",
   "metadata": {},
   "source": [
    "### Split the dataset for training, validation, and testing"
   ]
  },
  {
   "cell_type": "code",
   "execution_count": 4,
   "metadata": {
    "collapsed": true
   },
   "outputs": [],
   "source": [
    "# Save the final month for testing\n",
    "test_data = data[-31*24:]\n",
    "data = data[:-31*24]\n",
    "\n",
    "# Extract the target field\n",
    "target_fields = ['cnt']\n",
    "features, targets = data.drop(target_fields, axis=1), data[target_fields]\n",
    "test_features, test_targets = test_data.drop(target_fields, axis=1), test_data[target_fields]\n",
    "\n",
    "# Create a validation set (based on the last )\n",
    "X_train, y_train = features[:-30*24], targets[:-30*24]\n",
    "X_val, y_val = features[-30*24:], targets[-30*24:]"
   ]
  },
  {
   "cell_type": "markdown",
   "metadata": {},
   "source": [
    "### Define the model"
   ]
  },
  {
   "cell_type": "code",
   "execution_count": 5,
   "metadata": {
    "collapsed": true
   },
   "outputs": [],
   "source": [
    "model = Sequential()\n",
    "model.add(Dense(250, input_dim=X_train.shape[1], activation='relu'))\n",
    "model.add(Dense(150, activation='relu'))\n",
    "model.add(Dense(50, activation='relu'))\n",
    "model.add(Dense(25, activation='relu'))\n",
    "model.add(Dense(1, activation='linear'))\n",
    "\n",
    "# Compile model\n",
    "model.compile(loss='mse', optimizer='sgd', metrics=['mse'])"
   ]
  },
  {
   "cell_type": "markdown",
   "metadata": {},
   "source": [
    "### Set the hyperparameters and train the model"
   ]
  },
  {
   "cell_type": "code",
   "execution_count": 6,
   "metadata": {
    "collapsed": true
   },
   "outputs": [],
   "source": [
    "n_epochs = 1000\n",
    "batch_size = 1024\n",
    "\n",
    "history = model.fit(X_train.values, y_train['cnt'], \n",
    "    validation_data=(X_val.values, y_val['cnt']), \n",
    "    batch_size=batch_size, epochs=n_epochs, verbose=0\n",
    "    )"
   ]
  },
  {
   "cell_type": "markdown",
   "metadata": {},
   "source": [
    "### Plot the training and validation losses"
   ]
  },
  {
   "cell_type": "code",
   "execution_count": 7,
   "metadata": {},
   "outputs": [
    {
     "data": {
      "image/png": "[encoded data removed]",
      "text/plain": [
       "<matplotlib.figure.Figure at 0x7f887c1e40b8>"
      ]
     },
     "metadata": {},
     "output_type": "display_data"
    }
   ],
   "source": [
    "plt.plot(np.arange(len(history.history['loss'])), history.history['loss'], label='training')\n",
    "plt.plot(np.arange(len(history.history['val_loss'])), history.history['val_loss'], label='validation')\n",
    "plt.title('Overfit on Bike Sharing dataset')\n",
    "plt.xlabel('epochs')\n",
    "plt.ylabel('loss')\n",
    "plt.legend(loc=0)\n",
    "plt.show()"
   ]
  },
  {
   "cell_type": "markdown",
   "metadata": {},
   "source": [
    "Model overfits on training data (training loss shows slightly increasing trend after 450 epochs)"
   ]
  },
  {
   "cell_type": "markdown",
   "metadata": {},
   "source": [
    "### Pint the minimum loss"
   ]
  },
  {
   "cell_type": "code",
   "execution_count": 8,
   "metadata": {},
   "outputs": [
    {
     "name": "stdout",
     "output_type": "stream",
     "text": [
      "Minimum loss:  0.132840290666 \n",
      "After  985  epochs\n"
     ]
    }
   ],
   "source": [
    "print('Minimum loss: ', min(history.history['val_loss']), \n",
    " '\\nAfter ', np.argmin(history.history['val_loss']), ' epochs')\n",
    "\n",
    "# Minimum loss:  0.129907280207 \n",
    "# After  980  epochs"
   ]
  },
  {
   "cell_type": "markdown",
   "metadata": {},
   "source": [
    "### Add dropouts to our network architecture to prevent overfitting"
   ]
  },
  {
   "cell_type": "code",
   "execution_count": 9,
   "metadata": {
    "collapsed": true
   },
   "outputs": [],
   "source": [
    "model_drop = Sequential()\n",
    "model_drop.add(Dense(250, input_dim=X_train.shape[1], activation='relu'))\n",
    "model_drop.add(Dropout(0.20))\n",
    "model_drop.add(Dense(150, activation='relu'))\n",
    "model_drop.add(Dropout(0.20))\n",
    "model_drop.add(Dense(50, activation='relu'))\n",
    "model_drop.add(Dropout(0.20))\n",
    "model_drop.add(Dense(25, activation='relu'))\n",
    "model_drop.add(Dropout(0.20))\n",
    "model_drop.add(Dense(1, activation='linear'))\n",
    "\n",
    "# Compile model\n",
    "model_drop.compile(loss='mse', optimizer='sgd', metrics=['mse'])"
   ]
  },
  {
   "cell_type": "markdown",
   "metadata": {},
   "source": [
    "### Train our new model"
   ]
  },
  {
   "cell_type": "code",
   "execution_count": 10,
   "metadata": {
    "collapsed": true
   },
   "outputs": [],
   "source": [
    "history_drop = model_drop.fit(X_train.values, y_train['cnt'], \n",
    "    validation_data=(X_val.values, y_val['cnt']), \n",
    "    batch_size=batch_size, epochs=n_epochs, verbose=0\n",
    "    )"
   ]
  },
  {
   "cell_type": "markdown",
   "metadata": {},
   "source": [
    "### Plot the results"
   ]
  },
  {
   "cell_type": "code",
   "execution_count": 11,
   "metadata": {},
   "outputs": [
    {
     "data": {
      "image/png": "[encoded data removed]",
      "text/plain": [
       "<matplotlib.figure.Figure at 0x7f886bb9a240>"
      ]
     },
     "metadata": {},
     "output_type": "display_data"
    }
   ],
   "source": [
    "plt.plot(np.arange(len(history_drop.history['loss'])), history_drop.history['loss'], label='training')\n",
    "plt.plot(np.arange(len(history_drop.history['val_loss'])), history_drop.history['val_loss'], label='validation')\n",
    "plt.title('Use dropout for Bike Sharing dataset')\n",
    "plt.xlabel('epochs')\n",
    "plt.ylabel('loss')\n",
    "plt.legend(loc=0)\n",
    "plt.show()"
   ]
  },
  {
   "cell_type": "markdown",
   "metadata": {},
   "source": [
    "Model with dropouts to prevent overfitting"
   ]
  },
  {
   "cell_type": "markdown",
   "metadata": {},
   "source": [
    "### print the final statistics"
   ]
  },
  {
   "cell_type": "code",
   "execution_count": 12,
   "metadata": {},
   "outputs": [
    {
     "name": "stdout",
     "output_type": "stream",
     "text": [
      "Minimum loss:  0.134210646152 \n",
      "After  919  epochs\n"
     ]
    }
   ],
   "source": [
    "print('Minimum loss: ', min(history_drop.history['val_loss']), \n",
    " '\\nAfter ', np.argmin(history_drop.history['val_loss']), ' epochs')\n",
    "\n",
    "# Minimum loss:  0.126063346863 \n",
    "# After  998  epochs"
   ]
  }
 ],
 "metadata": {
  "kernelspec": {
   "display_name": "Python 3",
   "language": "python",
   "name": "python3"
  },
  "language_info": {
   "codemirror_mode": {
    "name": "ipython",
    "version": 3
   },
   "file_extension": ".py",
   "mimetype": "text/x-python",
   "name": "python",
   "nbconvert_exporter": "python",
   "pygments_lexer": "ipython3",
   "version": "3.6.2"
  },
  "widgets": {
   "state": {},
   "version": "1.1.2"
  }
 },
 "nbformat": 4,
 "nbformat_minor": 2
}

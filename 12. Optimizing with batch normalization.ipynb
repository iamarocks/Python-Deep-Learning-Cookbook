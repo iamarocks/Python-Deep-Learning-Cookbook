{
 "cells": [
  {
   "cell_type": "markdown",
   "metadata": {},
   "source": [
    "# Optimizing with batch normalization\n",
    "Another well-known optimization technique for CNNs is batch normalization. This technique normalizes the inputs of the current batch before feeding it to the next layer; therefore, the mean activation for each batch is around zero and the standard deviation around one, and we can avoid internal covariate shift.<br><br>\n",
    "By doing this, the input distribution of the data per batch has less effect on the network, and as a consequence the model is able to generalize better and train faster. <br><br>\n",
    "In the following example, we apply batch normalization to an image dataset with 10 classes (CIFAR-10). First, we train the network architecture without batch normalization to demonstrate the difference in performance."
   ]
  },
  {
   "cell_type": "code",
   "execution_count": 1,
   "metadata": {},
   "outputs": [
    {
     "name": "stderr",
     "output_type": "stream",
     "text": [
      "Using TensorFlow backend.\n"
     ]
    }
   ],
   "source": [
    "import numpy as np\n",
    "from matplotlib import pyplot as plt\n",
    "\n",
    "from keras.utils import np_utils\n",
    "from keras.models import Sequential\n",
    "from keras.layers.core import Dense, Dropout, Activation, Flatten\n",
    "from keras.callbacks import EarlyStopping\n",
    "from keras.layers import Conv2D, MaxPooling2D\n",
    "from keras.layers.normalization import BatchNormalization"
   ]
  },
  {
   "cell_type": "markdown",
   "metadata": {},
   "source": [
    "### Load the cifar10 datase"
   ]
  },
  {
   "cell_type": "code",
   "execution_count": 2,
   "metadata": {},
   "outputs": [],
   "source": [
    "from keras.datasets import cifar10\n",
    "(X_train, y_train), (X_val, y_val) = cifar10.load_data()"
   ]
  },
  {
   "cell_type": "markdown",
   "metadata": {},
   "source": [
    "### Normalize the input data"
   ]
  },
  {
   "cell_type": "code",
   "execution_count": 3,
   "metadata": {
    "collapsed": true
   },
   "outputs": [],
   "source": [
    "X_train = X_train.astype('float32')/255.\n",
    "X_val = X_val.astype('float32')/255."
   ]
  },
  {
   "cell_type": "markdown",
   "metadata": {},
   "source": [
    "### One-hot encode the labels"
   ]
  },
  {
   "cell_type": "code",
   "execution_count": 4,
   "metadata": {
    "collapsed": true
   },
   "outputs": [],
   "source": [
    "n_classes = 10\n",
    "y_train = np_utils.to_categorical(y_train, n_classes)\n",
    "y_val = np_utils.to_categorical(y_val, n_classes)"
   ]
  },
  {
   "cell_type": "markdown",
   "metadata": {},
   "source": [
    "### Define the CNN architecture and output the network architecture"
   ]
  },
  {
   "cell_type": "code",
   "execution_count": 5,
   "metadata": {},
   "outputs": [
    {
     "name": "stdout",
     "output_type": "stream",
     "text": [
      "_________________________________________________________________\n",
      "Layer (type)                 Output Shape              Param #   \n",
      "=================================================================\n",
      "conv2d_1 (Conv2D)            (None, 32, 32, 32)        896       \n",
      "_________________________________________________________________\n",
      "activation_1 (Activation)    (None, 32, 32, 32)        0         \n",
      "_________________________________________________________________\n",
      "conv2d_2 (Conv2D)            (None, 32, 32, 32)        9248      \n",
      "_________________________________________________________________\n",
      "activation_2 (Activation)    (None, 32, 32, 32)        0         \n",
      "_________________________________________________________________\n",
      "max_pooling2d_1 (MaxPooling2 (None, 16, 16, 32)        0         \n",
      "_________________________________________________________________\n",
      "dropout_1 (Dropout)          (None, 16, 16, 32)        0         \n",
      "_________________________________________________________________\n",
      "conv2d_3 (Conv2D)            (None, 16, 16, 64)        18496     \n",
      "_________________________________________________________________\n",
      "activation_3 (Activation)    (None, 16, 16, 64)        0         \n",
      "_________________________________________________________________\n",
      "conv2d_4 (Conv2D)            (None, 16, 16, 64)        36928     \n",
      "_________________________________________________________________\n",
      "activation_4 (Activation)    (None, 16, 16, 64)        0         \n",
      "_________________________________________________________________\n",
      "max_pooling2d_2 (MaxPooling2 (None, 8, 8, 64)          0         \n",
      "_________________________________________________________________\n",
      "dropout_2 (Dropout)          (None, 8, 8, 64)          0         \n",
      "_________________________________________________________________\n",
      "conv2d_5 (Conv2D)            (None, 8, 8, 128)         73856     \n",
      "_________________________________________________________________\n",
      "activation_5 (Activation)    (None, 8, 8, 128)         0         \n",
      "_________________________________________________________________\n",
      "conv2d_6 (Conv2D)            (None, 8, 8, 128)         147584    \n",
      "_________________________________________________________________\n",
      "activation_6 (Activation)    (None, 8, 8, 128)         0         \n",
      "_________________________________________________________________\n",
      "max_pooling2d_3 (MaxPooling2 (None, 4, 4, 128)         0         \n",
      "_________________________________________________________________\n",
      "dropout_3 (Dropout)          (None, 4, 4, 128)         0         \n",
      "_________________________________________________________________\n",
      "flatten_1 (Flatten)          (None, 2048)              0         \n",
      "_________________________________________________________________\n",
      "dense_1 (Dense)              (None, 512)               1049088   \n",
      "_________________________________________________________________\n",
      "dropout_4 (Dropout)          (None, 512)               0         \n",
      "_________________________________________________________________\n",
      "dense_2 (Dense)              (None, 128)               65664     \n",
      "_________________________________________________________________\n",
      "dense_3 (Dense)              (None, 10)                1290      \n",
      "=================================================================\n",
      "Total params: 1,403,050\n",
      "Trainable params: 1,403,050\n",
      "Non-trainable params: 0\n",
      "_________________________________________________________________\n"
     ]
    }
   ],
   "source": [
    "input_shape = X_train[0].shape\n",
    "\n",
    "model = Sequential()\n",
    "\n",
    "model.add(Conv2D(32, kernel_size=(3, 3), input_shape=input_shape, padding='same'))\n",
    "model.add(Activation('relu'))\n",
    "model.add(Conv2D(32, kernel_size=(3, 3), padding='same'))\n",
    "model.add(Activation('relu'))\n",
    "model.add(MaxPooling2D(pool_size=(2, 2), padding='same'))\n",
    "\n",
    "model.add(Dropout(0.25))\n",
    "\n",
    "model.add(Conv2D(64, kernel_size=(3, 3), padding='same'))\n",
    "model.add(Activation('relu'))\n",
    "model.add(Conv2D(64, kernel_size=(3, 3), padding='same'))\n",
    "model.add(Activation('relu'))\n",
    "model.add(MaxPooling2D(pool_size=(2, 2), padding='same'))\n",
    "\n",
    "model.add(Dropout(0.25))\n",
    "\n",
    "model.add(Conv2D(128, kernel_size=(3, 3), padding='same'))\n",
    "model.add(Activation('relu'))\n",
    "model.add(Conv2D(128, kernel_size=(3, 3), padding='same'))\n",
    "model.add(Activation('relu'))\n",
    "model.add(MaxPooling2D(pool_size=(2, 2), padding='same'))\n",
    "\n",
    "model.add(Dropout(0.25))\n",
    "\n",
    "model.add(Flatten())\n",
    "model.add(Dense(512, activation='relu'))\n",
    "model.add(Dropout(0.5))\n",
    "model.add(Dense(128, activation='relu'))\n",
    "model.add(Dense(n_classes, activation='softmax'))\n",
    "\n",
    "model.compile(loss='categorical_crossentropy', optimizer='adam', metrics=['accuracy'])\n",
    "model.summary()"
   ]
  },
  {
   "cell_type": "markdown",
   "metadata": {},
   "source": [
    "### Define a callback to prevent overfitting"
   ]
  },
  {
   "cell_type": "code",
   "execution_count": 6,
   "metadata": {
    "collapsed": true
   },
   "outputs": [],
   "source": [
    "callbacks = [EarlyStopping(monitor='val_acc', patience=5, verbose=1)]"
   ]
  },
  {
   "cell_type": "markdown",
   "metadata": {},
   "source": [
    "### Set network hyperparameters"
   ]
  },
  {
   "cell_type": "code",
   "execution_count": 7,
   "metadata": {
    "collapsed": true
   },
   "outputs": [],
   "source": [
    "batch_size = 256\n",
    "n_epochs = 300"
   ]
  },
  {
   "cell_type": "markdown",
   "metadata": {},
   "source": [
    "### Train our first model"
   ]
  },
  {
   "cell_type": "code",
   "execution_count": 8,
   "metadata": {},
   "outputs": [
    {
     "name": "stdout",
     "output_type": "stream",
     "text": [
      "Train on 50000 samples, validate on 10000 samples\n",
      "Epoch 1/300\n",
      "50000/50000 [==============================] - 653s 13ms/step - loss: 1.8134 - acc: 0.3212 - val_loss: 1.4383 - val_acc: 0.4614\n",
      "Epoch 2/300\n",
      "50000/50000 [==============================] - 636s 13ms/step - loss: 1.3444 - acc: 0.5087 - val_loss: 1.1246 - val_acc: 0.5989\n",
      "Epoch 3/300\n",
      "50000/50000 [==============================] - 642s 13ms/step - loss: 1.1222 - acc: 0.5966 - val_loss: 1.1822 - val_acc: 0.5831\n",
      "Epoch 4/300\n",
      "50000/50000 [==============================] - 642s 13ms/step - loss: 0.9952 - acc: 0.6474 - val_loss: 0.9055 - val_acc: 0.6827\n",
      "Epoch 5/300\n",
      "50000/50000 [==============================] - 644s 13ms/step - loss: 0.9080 - acc: 0.6777 - val_loss: 0.8097 - val_acc: 0.7147\n",
      "Epoch 6/300\n",
      "50000/50000 [==============================] - 648s 13ms/step - loss: 0.8360 - acc: 0.7045 - val_loss: 0.7957 - val_acc: 0.7156\n",
      "Epoch 7/300\n",
      "50000/50000 [==============================] - 635s 13ms/step - loss: 0.7709 - acc: 0.7299 - val_loss: 0.7829 - val_acc: 0.7285\n",
      "Epoch 8/300\n",
      "50000/50000 [==============================] - 634s 13ms/step - loss: 0.7210 - acc: 0.7450 - val_loss: 0.6966 - val_acc: 0.7572\n",
      "Epoch 9/300\n",
      "50000/50000 [==============================] - 639s 13ms/step - loss: 0.6833 - acc: 0.7600 - val_loss: 0.6704 - val_acc: 0.7673\n",
      "Epoch 10/300\n",
      "50000/50000 [==============================] - 641s 13ms/step - loss: 0.6429 - acc: 0.7736 - val_loss: 0.6445 - val_acc: 0.7812\n",
      "Epoch 11/300\n",
      "50000/50000 [==============================] - 620s 12ms/step - loss: 0.6049 - acc: 0.7875 - val_loss: 0.6780 - val_acc: 0.7637\n",
      "Epoch 12/300\n",
      "50000/50000 [==============================] - 620s 12ms/step - loss: 0.5814 - acc: 0.7936 - val_loss: 0.5956 - val_acc: 0.7970\n",
      "Epoch 13/300\n",
      "50000/50000 [==============================] - 621s 12ms/step - loss: 0.5510 - acc: 0.8051 - val_loss: 0.6177 - val_acc: 0.7911\n",
      "Epoch 14/300\n",
      "50000/50000 [==============================] - 618s 12ms/step - loss: 0.5288 - acc: 0.8157 - val_loss: 0.5767 - val_acc: 0.8081\n",
      "Epoch 15/300\n",
      "50000/50000 [==============================] - 616s 12ms/step - loss: 0.5062 - acc: 0.8222 - val_loss: 0.6263 - val_acc: 0.7930\n",
      "Epoch 16/300\n",
      "50000/50000 [==============================] - 619s 12ms/step - loss: 0.4920 - acc: 0.8260 - val_loss: 0.5787 - val_acc: 0.8018\n",
      "Epoch 17/300\n",
      "50000/50000 [==============================] - 622s 12ms/step - loss: 0.4674 - acc: 0.8350 - val_loss: 0.5714 - val_acc: 0.8042\n",
      "Epoch 18/300\n",
      "50000/50000 [==============================] - 617s 12ms/step - loss: 0.4547 - acc: 0.8379 - val_loss: 0.6177 - val_acc: 0.7982\n",
      "Epoch 19/300\n",
      "50000/50000 [==============================] - 621s 12ms/step - loss: 0.4401 - acc: 0.8446 - val_loss: 0.5903 - val_acc: 0.8073\n",
      "Epoch 00019: early stopping\n"
     ]
    }
   ],
   "source": [
    "history = model.fit(X_train, y_train, batch_size=batch_size, epochs=n_epochs, verbose=1, validation_data=(X_val, y_val), callbacks=callbacks)"
   ]
  },
  {
   "cell_type": "markdown",
   "metadata": {},
   "source": [
    "### Add batch normalization to our network architecture"
   ]
  },
  {
   "cell_type": "code",
   "execution_count": 9,
   "metadata": {},
   "outputs": [
    {
     "name": "stdout",
     "output_type": "stream",
     "text": [
      "_________________________________________________________________\n",
      "Layer (type)                 Output Shape              Param #   \n",
      "=================================================================\n",
      "conv2d_7 (Conv2D)            (None, 32, 32, 32)        896       \n",
      "_________________________________________________________________\n",
      "activation_7 (Activation)    (None, 32, 32, 32)        0         \n",
      "_________________________________________________________________\n",
      "batch_normalization_1 (Batch (None, 32, 32, 32)        128       \n",
      "_________________________________________________________________\n",
      "conv2d_8 (Conv2D)            (None, 32, 32, 32)        9248      \n",
      "_________________________________________________________________\n",
      "activation_8 (Activation)    (None, 32, 32, 32)        0         \n",
      "_________________________________________________________________\n",
      "batch_normalization_2 (Batch (None, 32, 32, 32)        128       \n",
      "_________________________________________________________________\n",
      "max_pooling2d_4 (MaxPooling2 (None, 16, 16, 32)        0         \n",
      "_________________________________________________________________\n",
      "dropout_5 (Dropout)          (None, 16, 16, 32)        0         \n",
      "_________________________________________________________________\n",
      "conv2d_9 (Conv2D)            (None, 16, 16, 64)        18496     \n",
      "_________________________________________________________________\n",
      "activation_9 (Activation)    (None, 16, 16, 64)        0         \n",
      "_________________________________________________________________\n",
      "batch_normalization_3 (Batch (None, 16, 16, 64)        256       \n",
      "_________________________________________________________________\n",
      "conv2d_10 (Conv2D)           (None, 16, 16, 64)        36928     \n",
      "_________________________________________________________________\n",
      "activation_10 (Activation)   (None, 16, 16, 64)        0         \n",
      "_________________________________________________________________\n",
      "batch_normalization_4 (Batch (None, 16, 16, 64)        256       \n",
      "_________________________________________________________________\n",
      "max_pooling2d_5 (MaxPooling2 (None, 8, 8, 64)          0         \n",
      "_________________________________________________________________\n",
      "dropout_6 (Dropout)          (None, 8, 8, 64)          0         \n",
      "_________________________________________________________________\n",
      "conv2d_11 (Conv2D)           (None, 8, 8, 128)         73856     \n",
      "_________________________________________________________________\n",
      "activation_11 (Activation)   (None, 8, 8, 128)         0         \n",
      "_________________________________________________________________\n",
      "batch_normalization_5 (Batch (None, 8, 8, 128)         512       \n",
      "_________________________________________________________________\n",
      "conv2d_12 (Conv2D)           (None, 8, 8, 128)         147584    \n",
      "_________________________________________________________________\n",
      "activation_12 (Activation)   (None, 8, 8, 128)         0         \n",
      "_________________________________________________________________\n",
      "batch_normalization_6 (Batch (None, 8, 8, 128)         512       \n",
      "_________________________________________________________________\n",
      "max_pooling2d_6 (MaxPooling2 (None, 4, 4, 128)         0         \n",
      "_________________________________________________________________\n",
      "dropout_7 (Dropout)          (None, 4, 4, 128)         0         \n",
      "_________________________________________________________________\n",
      "flatten_2 (Flatten)          (None, 2048)              0         \n",
      "_________________________________________________________________\n",
      "dense_4 (Dense)              (None, 512)               1049088   \n",
      "_________________________________________________________________\n",
      "batch_normalization_7 (Batch (None, 512)               2048      \n",
      "_________________________________________________________________\n",
      "dropout_8 (Dropout)          (None, 512)               0         \n",
      "_________________________________________________________________\n",
      "dense_5 (Dense)              (None, 128)               65664     \n",
      "_________________________________________________________________\n",
      "dense_6 (Dense)              (None, 10)                1290      \n",
      "=================================================================\n",
      "Total params: 1,406,890\n",
      "Trainable params: 1,404,970\n",
      "Non-trainable params: 1,920\n",
      "_________________________________________________________________\n"
     ]
    }
   ],
   "source": [
    "model_bn = Sequential()\n",
    "\n",
    "model_bn.add(Conv2D(32, kernel_size=(3, 3), input_shape=input_shape, padding='same'))\n",
    "model_bn.add(Activation('relu'))\n",
    "model_bn.add(BatchNormalization())\n",
    "model_bn.add(Conv2D(32, kernel_size=(3, 3), padding='same'))\n",
    "model_bn.add(Activation('relu'))\n",
    "model_bn.add(BatchNormalization())\n",
    "model_bn.add(MaxPooling2D(pool_size=(2, 2), padding='same'))\n",
    "\n",
    "model_bn.add(Dropout(0.25))\n",
    "\n",
    "model_bn.add(Conv2D(64, kernel_size=(3, 3), padding='same'))\n",
    "model_bn.add(Activation('relu'))\n",
    "model_bn.add(BatchNormalization())\n",
    "model_bn.add(Conv2D(64, kernel_size=(3, 3), padding='same'))\n",
    "model_bn.add(Activation('relu'))\n",
    "model_bn.add(BatchNormalization())\n",
    "model_bn.add(MaxPooling2D(pool_size=(2, 2), padding='same'))\n",
    "\n",
    "model_bn.add(Dropout(0.25))\n",
    "\n",
    "model_bn.add(Conv2D(128, kernel_size=(3, 3), padding='same'))\n",
    "model_bn.add(Activation('relu'))\n",
    "model_bn.add(BatchNormalization())\n",
    "model_bn.add(Conv2D(128, kernel_size=(3, 3), padding='same'))\n",
    "model_bn.add(Activation('relu'))\n",
    "model_bn.add(BatchNormalization())\n",
    "model_bn.add(MaxPooling2D(pool_size=(2, 2), padding='same'))\n",
    "\n",
    "model_bn.add(Dropout(0.25))\n",
    "\n",
    "model_bn.add(Flatten())\n",
    "model_bn.add(Dense(512, activation='relu'))\n",
    "model_bn.add(BatchNormalization())\n",
    "model_bn.add(Dropout(0.5))\n",
    "model_bn.add(Dense(128, activation='relu'))\n",
    "model_bn.add(Dense(n_classes, activation='softmax'))\n",
    "\n",
    "model_bn.compile(loss='categorical_crossentropy', optimizer='adam', metrics=['accuracy'])\n",
    "model_bn.summary()"
   ]
  },
  {
   "cell_type": "markdown",
   "metadata": {},
   "source": [
    "### Train the model that includes batchnormalization"
   ]
  },
  {
   "cell_type": "code",
   "execution_count": 10,
   "metadata": {},
   "outputs": [
    {
     "name": "stdout",
     "output_type": "stream",
     "text": [
      "Train on 50000 samples, validate on 10000 samples\n",
      "Epoch 1/300\n",
      "50000/50000 [==============================] - 841s 17ms/step - loss: 1.6458 - acc: 0.4244 - val_loss: 3.6049 - val_acc: 0.1610\n",
      "Epoch 2/300\n",
      "50000/50000 [==============================] - 899s 18ms/step - loss: 1.1702 - acc: 0.5816 - val_loss: 2.8794 - val_acc: 0.2465\n",
      "Epoch 3/300\n",
      "50000/50000 [==============================] - 757s 15ms/step - loss: 0.9783 - acc: 0.6534 - val_loss: 1.1287 - val_acc: 0.6128\n",
      "Epoch 4/300\n",
      "50000/50000 [==============================] - 788s 16ms/step - loss: 0.8462 - acc: 0.7022 - val_loss: 0.8321 - val_acc: 0.7130\n",
      "Epoch 5/300\n",
      "50000/50000 [==============================] - 1234s 25ms/step - loss: 0.7543 - acc: 0.7363 - val_loss: 0.8076 - val_acc: 0.7217\n",
      "Epoch 6/300\n",
      "50000/50000 [==============================] - 2484s 50ms/step - loss: 0.6946 - acc: 0.7558 - val_loss: 0.7145 - val_acc: 0.7518\n",
      "Epoch 7/300\n",
      "50000/50000 [==============================] - 1763s 35ms/step - loss: 0.6350 - acc: 0.7755 - val_loss: 0.6306 - val_acc: 0.7820\n",
      "Epoch 8/300\n",
      "50000/50000 [==============================] - 1418s 28ms/step - loss: 0.5840 - acc: 0.7930 - val_loss: 0.6027 - val_acc: 0.7904\n",
      "Epoch 9/300\n",
      "50000/50000 [==============================] - 1196s 24ms/step - loss: 0.5500 - acc: 0.8062 - val_loss: 0.6410 - val_acc: 0.7897\n",
      "Epoch 10/300\n",
      "50000/50000 [==============================] - 1142s 23ms/step - loss: 0.5135 - acc: 0.8214 - val_loss: 0.5933 - val_acc: 0.7987\n",
      "Epoch 11/300\n",
      "50000/50000 [==============================] - 1159s 23ms/step - loss: 0.4811 - acc: 0.8301 - val_loss: 0.5542 - val_acc: 0.8118\n",
      "Epoch 12/300\n",
      "50000/50000 [==============================] - 1151s 23ms/step - loss: 0.4543 - acc: 0.8407 - val_loss: 0.5780 - val_acc: 0.8095\n",
      "Epoch 13/300\n",
      "50000/50000 [==============================] - 1145s 23ms/step - loss: 0.4205 - acc: 0.8513 - val_loss: 0.5887 - val_acc: 0.8076\n",
      "Epoch 14/300\n",
      "50000/50000 [==============================] - 1154s 23ms/step - loss: 0.4003 - acc: 0.8573 - val_loss: 0.5326 - val_acc: 0.8327\n",
      "Epoch 15/300\n",
      "50000/50000 [==============================] - 1133s 23ms/step - loss: 0.3769 - acc: 0.8673 - val_loss: 0.5250 - val_acc: 0.8329\n",
      "Epoch 16/300\n",
      "50000/50000 [==============================] - 1148s 23ms/step - loss: 0.3606 - acc: 0.8734 - val_loss: 0.5301 - val_acc: 0.8291\n",
      "Epoch 17/300\n",
      "50000/50000 [==============================] - 1147s 23ms/step - loss: 0.3431 - acc: 0.8785 - val_loss: 0.5448 - val_acc: 0.8244\n",
      "Epoch 18/300\n",
      "50000/50000 [==============================] - 1136s 23ms/step - loss: 0.3265 - acc: 0.8838 - val_loss: 0.5444 - val_acc: 0.8315\n",
      "Epoch 19/300\n",
      "50000/50000 [==============================] - 1144s 23ms/step - loss: 0.3087 - acc: 0.8906 - val_loss: 0.6008 - val_acc: 0.8148\n",
      "Epoch 20/300\n",
      "50000/50000 [==============================] - 1151s 23ms/step - loss: 0.2917 - acc: 0.8957 - val_loss: 0.5130 - val_acc: 0.8408\n",
      "Epoch 21/300\n",
      "50000/50000 [==============================] - 1138s 23ms/step - loss: 0.2813 - acc: 0.8997 - val_loss: 0.5874 - val_acc: 0.8204\n",
      "Epoch 22/300\n",
      "50000/50000 [==============================] - 1156s 23ms/step - loss: 0.2630 - acc: 0.9066 - val_loss: 0.5089 - val_acc: 0.8447\n",
      "Epoch 23/300\n",
      "50000/50000 [==============================] - 1145s 23ms/step - loss: 0.2559 - acc: 0.9088 - val_loss: 0.5587 - val_acc: 0.8297\n",
      "Epoch 24/300\n",
      "50000/50000 [==============================] - 1140s 23ms/step - loss: 0.2518 - acc: 0.9102 - val_loss: 0.4992 - val_acc: 0.8496\n",
      "Epoch 25/300\n",
      "50000/50000 [==============================] - 1158s 23ms/step - loss: 0.2351 - acc: 0.9152 - val_loss: 0.5771 - val_acc: 0.8334\n",
      "Epoch 26/300\n",
      "50000/50000 [==============================] - 1154s 23ms/step - loss: 0.2325 - acc: 0.9169 - val_loss: 0.5422 - val_acc: 0.8404\n",
      "Epoch 27/300\n",
      "50000/50000 [==============================] - 1148s 23ms/step - loss: 0.2230 - acc: 0.9198 - val_loss: 0.5439 - val_acc: 0.8413\n",
      "Epoch 28/300\n",
      "50000/50000 [==============================] - 1160s 23ms/step - loss: 0.2127 - acc: 0.9245 - val_loss: 0.5223 - val_acc: 0.8478\n",
      "Epoch 29/300\n",
      "50000/50000 [==============================] - 1153s 23ms/step - loss: 0.2109 - acc: 0.9243 - val_loss: 0.5595 - val_acc: 0.8382\n",
      "Epoch 00029: early stopping\n"
     ]
    }
   ],
   "source": [
    " history_bn = model_bn.fit(X_train, y_train,\n",
    "          batch_size=batch_size,\n",
    "          epochs=n_epochs,\n",
    "          verbose=1,\n",
    "          validation_data=(X_val, y_val), callbacks=callbacks)"
   ]
  },
  {
   "cell_type": "markdown",
   "metadata": {},
   "source": [
    "### Plot the validation accuracy of both models to compare the performance"
   ]
  },
  {
   "cell_type": "code",
   "execution_count": 11,
   "metadata": {
    "scrolled": true
   },
   "outputs": [
    {
     "data": {
      "image/png": "[encoded data removed]",
      "text/plain": [
       "<matplotlib.figure.Figure at 0x7f36be8e4160>"
      ]
     },
     "metadata": {},
     "output_type": "display_data"
    }
   ],
   "source": [
    "val_acc_bn = history_bn.history['val_acc']\n",
    "val_acc = history.history['val_acc']\n",
    "plt.plot(range(len(val_acc)), val_acc, label='CNN model')\n",
    "plt.plot(range(len(val_acc_bn)), val_acc_bn, label='CNN model with BN')\n",
    "plt.title('Validation accuracy on Cifar10 dataset')\n",
    "plt.xlabel('epochs')\n",
    "plt.ylabel('accuracy')\n",
    "plt.legend()\n",
    "plt.show()"
   ]
  },
  {
   "cell_type": "markdown",
   "metadata": {},
   "source": [
    "Comparing validation accuracy of a model with and without batch normalization"
   ]
  },
  {
   "cell_type": "code",
   "execution_count": 12,
   "metadata": {},
   "outputs": [
    {
     "name": "stdout",
     "output_type": "stream",
     "text": [
      "0.8496 0.8081\n",
      "29 19\n"
     ]
    }
   ],
   "source": [
    "print(max(val_acc_bn), max(val_acc))\n",
    "print(len(val_acc_bn), len(val_acc))"
   ]
  },
  {
   "cell_type": "markdown",
   "metadata": {},
   "source": [
    "As we can see, the model with batch normalization takes the leadon validation accuracy after a couple of epochs and manages to stay ahead of the model without batch normalization, with a maximum validation accuracy of 84.16%, compared to a validation accuracy of 83.19% for the model without batch normalization. The model with batch normalization also converges faster (26 epochs vs 40 epochs). However, with 25 seconds per epoch, the model with batch normalization is slightly slower per epoch than the model without batch normalization (17 seconds)."
   ]
  }
 ],
 "metadata": {
  "kernelspec": {
   "display_name": "Python 3",
   "language": "python",
   "name": "python3"
  },
  "language_info": {
   "codemirror_mode": {
    "name": "ipython",
    "version": 3
   },
   "file_extension": ".py",
   "mimetype": "text/x-python",
   "name": "python",
   "nbconvert_exporter": "python",
   "pygments_lexer": "ipython3",
   "version": "3.6.2"
  },
  "widgets": {
   "state": {},
   "version": "1.1.2"
  }
 },
 "nbformat": 4,
 "nbformat_minor": 2
}

{
 "cells": [
  {
   "cell_type": "markdown",
   "metadata": {},
   "source": [
    "# Convolutional Neural Networks- filters and parameter sharing\n",
    "A convolutional neural network, also known as ConvNet, is a specific type of feed-forward neural network where the network has one or multiple convolutional layers. The convolutional layers can be complemented with fully connected layers. If the network only contains convolutional layers, we name the network architecture a fully convolutional network (FCN). Convolutional networks and computer vision are inseparable in deep learning. However, CNNs can be used in other applications, such as in a wide variety of NLP problems. <br> \n",
    "\n",
    "Let's introduce the most important part of convolutional networks: convolutional layers. In a convolutional layer, we have blocks that convolve over the input data (like a sliding window). This technique shares parameters for each block in such a way that it can detect a feature within the block across the whole input data. The size of a block is called the **kernel size or filter size**. Summarized, the convolutional layer extracts local features within the total feature set. This is illustrated with an image as input data in the following figure:\n",
    "\n",
    "![alt text][logo]\n",
    "\n",
    "[logo]: https://github.com/sara-kassani/Python-Deep-Learning-Cookbook/blob/master/data/filter.png?raw=true \"filters\"\n",
    "\n",
    "The input data can contain multiple different features, so this trick can be applied multiple times. This is called the number of filters or filter depth. Simply said, if we use a convolutional layerwith five filters on image data, the convolutional block tries to learn five different features in the images, for example the facial features such as the nose, eyes, mouth, ears, and eyebrows.<br> \n",
    "Although, these features are never explicitly specified, the network tries to learn valuable features itself.<br> \n",
    "For convolutional neural networks, it's advised to use an increasing number of filters, for example double the\n",
    "number of filters for each convolutional layer: 32, 64, and 128.<br> \n",
    "In the following example, we will implement a convolutional neural network to classify the MNIST images"
   ]
  },
  {
   "cell_type": "code",
   "execution_count": 1,
   "metadata": {},
   "outputs": [
    {
     "name": "stderr",
     "output_type": "stream",
     "text": [
      "Using TensorFlow backend.\n"
     ]
    }
   ],
   "source": [
    "import numpy as np\n",
    "from matplotlib import pyplot as plt\n",
    "\n",
    "from keras.utils.np_utils import to_categorical\n",
    "from keras.models import Sequential\n",
    "from keras.layers.core import Dense, Dropout, Flatten\n",
    "from keras.layers import Conv2D\n",
    "from keras.callbacks import EarlyStopping\n",
    "from keras.datasets import mnist\n"
   ]
  },
  {
   "cell_type": "markdown",
   "metadata": {},
   "source": [
    "### Load the mnist dataset"
   ]
  },
  {
   "cell_type": "code",
   "execution_count": 2,
   "metadata": {
    "collapsed": true
   },
   "outputs": [],
   "source": [
    "(X_train, y_train), (X_test, y_test) = mnist.load_data()"
   ]
  },
  {
   "cell_type": "markdown",
   "metadata": {},
   "source": [
    "### Reshape the training data to represent one-channel image input"
   ]
  },
  {
   "cell_type": "code",
   "execution_count": 3,
   "metadata": {
    "collapsed": true
   },
   "outputs": [],
   "source": [
    "img_rows, img_cols = X_train[0].shape[0], X_train[0].shape[1]\n",
    "X_train = X_train.reshape(X_train.shape[0], img_rows, img_cols, 1)\n",
    "X_test = X_test.reshape(X_test.shape[0], img_rows, img_cols, 1)\n",
    "input_shape = (img_rows, img_cols, 1)"
   ]
  },
  {
   "cell_type": "markdown",
   "metadata": {},
   "source": [
    "### Normalize the input data"
   ]
  },
  {
   "cell_type": "code",
   "execution_count": 4,
   "metadata": {
    "collapsed": true
   },
   "outputs": [],
   "source": [
    "X_train = X_train.astype('float32')/255.\n",
    "X_test = X_test.astype('float32')/255."
   ]
  },
  {
   "cell_type": "markdown",
   "metadata": {},
   "source": [
    "### One-hot encode the labels"
   ]
  },
  {
   "cell_type": "code",
   "execution_count": 5,
   "metadata": {},
   "outputs": [],
   "source": [
    "n_classes = len(set(y_train))\n",
    "y_train = to_categorical(y_train, n_classes)\n",
    "y_test = to_categorical(y_test, n_classes)"
   ]
  },
  {
   "cell_type": "markdown",
   "metadata": {},
   "source": [
    "### Define the CNN architecture"
   ]
  },
  {
   "cell_type": "code",
   "execution_count": 6,
   "metadata": {
    "collapsed": true
   },
   "outputs": [],
   "source": [
    "model = Sequential()\n",
    "model.add(Conv2D(64, kernel_size=(3, 3), activation='relu', input_shape=input_shape))\n",
    "model.add(Conv2D(128, kernel_size=(3, 3), activation='relu'))\n",
    "model.add(Conv2D(256, kernel_size=(3, 3), activation='relu'))\n",
    "model.add(Dropout(0.5))\n",
    "model.add(Flatten())\n",
    "model.add(Dense(128, activation='relu'))\n",
    "model.add(Dropout(0.5))\n",
    "model.add(Dense(n_classes, activation='softmax'))\n",
    "\n",
    "model.compile(loss='categorical_crossentropy', optimizer='adam', metrics=['accuracy'])"
   ]
  },
  {
   "cell_type": "markdown",
   "metadata": {},
   "source": [
    "### Set network hyperparameters and the callback function"
   ]
  },
  {
   "cell_type": "code",
   "execution_count": 7,
   "metadata": {
    "collapsed": true
   },
   "outputs": [],
   "source": [
    "batch_size = 128\n",
    "n_epochs = 200\n",
    "\n",
    "callbacks = [EarlyStopping(monitor='val_acc', patience=5)]"
   ]
  },
  {
   "cell_type": "markdown",
   "metadata": {},
   "source": [
    "### Train the model"
   ]
  },
  {
   "cell_type": "code",
   "execution_count": 8,
   "metadata": {},
   "outputs": [
    {
     "name": "stdout",
     "output_type": "stream",
     "text": [
      "Train on 48000 samples, validate on 12000 samples\n",
      "Epoch 1/200\n",
      "48000/48000 [==============================] - 1566s 33ms/step - loss: 0.1986 - acc: 0.9402 - val_loss: 0.0544 - val_acc: 0.9842\n",
      "Epoch 2/200\n",
      "48000/48000 [==============================] - 1632s 34ms/step - loss: 0.0764 - acc: 0.9769 - val_loss: 0.0434 - val_acc: 0.9873\n",
      "Epoch 3/200\n",
      "48000/48000 [==============================] - 1439s 30ms/step - loss: 0.0535 - acc: 0.9840 - val_loss: 0.0413 - val_acc: 0.9884\n",
      "Epoch 4/200\n",
      "48000/48000 [==============================] - 1065s 22ms/step - loss: 0.0434 - acc: 0.9876 - val_loss: 0.0386 - val_acc: 0.9889\n",
      "Epoch 5/200\n",
      "48000/48000 [==============================] - 838s 17ms/step - loss: 0.0357 - acc: 0.9888 - val_loss: 0.0388 - val_acc: 0.9897\n",
      "Epoch 6/200\n",
      "48000/48000 [==============================] - 813s 17ms/step - loss: 0.0299 - acc: 0.9904 - val_loss: 0.0402 - val_acc: 0.9881\n",
      "Epoch 7/200\n",
      "48000/48000 [==============================] - 811s 17ms/step - loss: 0.0256 - acc: 0.9914 - val_loss: 0.0477 - val_acc: 0.9883\n",
      "Epoch 8/200\n",
      "48000/48000 [==============================] - 833s 17ms/step - loss: 0.0226 - acc: 0.9924 - val_loss: 0.0377 - val_acc: 0.9903\n",
      "Epoch 9/200\n",
      "48000/48000 [==============================] - 839s 17ms/step - loss: 0.0217 - acc: 0.9926 - val_loss: 0.0515 - val_acc: 0.9890\n",
      "Epoch 10/200\n",
      "48000/48000 [==============================] - 1538s 32ms/step - loss: 0.0191 - acc: 0.9936 - val_loss: 0.0451 - val_acc: 0.9893\n",
      "Epoch 11/200\n",
      "48000/48000 [==============================] - 2515s 52ms/step - loss: 0.0179 - acc: 0.9941 - val_loss: 0.0490 - val_acc: 0.9902\n",
      "Epoch 12/200\n",
      "48000/48000 [==============================] - 2469s 51ms/step - loss: 0.0151 - acc: 0.9948 - val_loss: 0.0435 - val_acc: 0.9903\n",
      "Epoch 13/200\n",
      "48000/48000 [==============================] - 2445s 51ms/step - loss: 0.0137 - acc: 0.9955 - val_loss: 0.0413 - val_acc: 0.9914\n",
      "Epoch 14/200\n",
      "48000/48000 [==============================] - 2435s 51ms/step - loss: 0.0149 - acc: 0.9951 - val_loss: 0.0401 - val_acc: 0.9909\n",
      "Epoch 15/200\n",
      "48000/48000 [==============================] - 2126s 44ms/step - loss: 0.0148 - acc: 0.9954 - val_loss: 0.0486 - val_acc: 0.9907\n",
      "Epoch 16/200\n",
      "48000/48000 [==============================] - 1565s 33ms/step - loss: 0.0124 - acc: 0.9957 - val_loss: 0.0477 - val_acc: 0.9914\n",
      "Epoch 17/200\n",
      "48000/48000 [==============================] - 1561s 33ms/step - loss: 0.0118 - acc: 0.9965 - val_loss: 0.0446 - val_acc: 0.9906\n",
      "Epoch 18/200\n",
      "48000/48000 [==============================] - 1562s 33ms/step - loss: 0.0114 - acc: 0.9962 - val_loss: 0.0407 - val_acc: 0.9910\n"
     ]
    },
    {
     "data": {
      "text/plain": [
       "<keras.callbacks.History at 0x7fc6ff83aa58>"
      ]
     },
     "execution_count": 8,
     "metadata": {},
     "output_type": "execute_result"
    }
   ],
   "source": [
    "model.fit(X_train, y_train, batch_size=batch_size, epochs=n_epochs, verbose=1, validation_split=0.2, callbacks=callbacks)"
   ]
  },
  {
   "cell_type": "markdown",
   "metadata": {},
   "source": [
    "### Show the results on the test set"
   ]
  },
  {
   "cell_type": "code",
   "execution_count": 9,
   "metadata": {},
   "outputs": [
    {
     "name": "stdout",
     "output_type": "stream",
     "text": [
      "Test loss: 0.0313496287054\n",
      "Test accuracy: 0.991\n"
     ]
    },
    {
     "data": {
      "image/png": "[encoded data removed]",
      "text/plain": [
       "<matplotlib.figure.Figure at 0x7fc6fc837b70>"
      ]
     },
     "metadata": {},
     "output_type": "display_data"
    }
   ],
   "source": [
    "score = model.evaluate(X_test, y_test, verbose=0)\n",
    "print('Test loss:', score[0])\n",
    "print('Test accuracy:', score[1])\n",
    "\n",
    "# Extract predictions\n",
    "preds = model.predict(X_test)\n",
    "\n",
    "n_examples = 10\n",
    "plt.figure(figsize=(15, 15))\n",
    "for i in range(n_examples):\n",
    "    ax = plt.subplot(2, n_examples, i + 1)\n",
    "    plt.imshow(X_test[i, :, :, 0], cmap='gray')\n",
    "    plt.title(\"Label: {}\\nPredicted: {}\".format(np.argmax(y_test[i]), np.argmax(preds[i])))\n",
    "    plt.axis('off')\n",
    "    \n",
    "plt.show()"
   ]
  },
  {
   "cell_type": "markdown",
   "metadata": {},
   "source": [
    "### Plot the result"
   ]
  },
  {
   "cell_type": "code",
   "execution_count": 10,
   "metadata": {},
   "outputs": [
    {
     "data": {
      "image/png": "[encoded data removed]",
      "text/plain": [
       "<matplotlib.figure.Figure at 0x7fc6fc837710>"
      ]
     },
     "metadata": {},
     "output_type": "display_data"
    }
   ],
   "source": [
    "plt.figure(figsize=(15, 15))\n",
    "\n",
    "j=1\n",
    "for i in range(len(y_test)):\n",
    "    if(j>10):\n",
    "        break\n",
    "    label = np.argmax(y_test[i])\n",
    "    pred = np.argmax(preds[i])\n",
    "    if label != pred:        \n",
    "        ax = plt.subplot(2, n_examples, j)\n",
    "        plt.imshow(X_test[i, :, :, 0], cmap='gray')\n",
    "        plt.title(\"Label: {}\\nPredicted: {}\".format(label, pred))\n",
    "        plt.axis('off')\n",
    "        j+=1\n",
    "plt.show()"
   ]
  },
  {
   "cell_type": "markdown",
   "metadata": {},
   "source": [
    "As we can see in our output, some of the misclassified examples are actually really hard to predict. For\n",
    "example, the 7th example with label 8 and predicted label 9"
   ]
  }
 ],
 "metadata": {
  "kernelspec": {
   "display_name": "Python 3",
   "language": "python",
   "name": "python3"
  },
  "language_info": {
   "codemirror_mode": {
    "name": "ipython",
    "version": 3
   },
   "file_extension": ".py",
   "mimetype": "text/x-python",
   "name": "python",
   "nbconvert_exporter": "python",
   "pygments_lexer": "ipython3",
   "version": "3.6.2"
  },
  "widgets": {
   "state": {},
   "version": "1.1.2"
  }
 },
 "nbformat": 4,
 "nbformat_minor": 2
}

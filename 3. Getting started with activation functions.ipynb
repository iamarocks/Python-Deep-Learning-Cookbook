{
 "cells": [
  {
   "cell_type": "code",
   "execution_count": 1,
   "metadata": {},
   "outputs": [
    {
     "name": "stderr",
     "output_type": "stream",
     "text": [
      "Using TensorFlow backend.\n"
     ]
    }
   ],
   "source": [
    "import numpy as np \n",
    "import pandas as pd\n",
    "from sklearn.model_selection import train_test_split\n",
    "import matplotlib.pyplot as plt\n",
    "\n",
    "from keras.models import Sequential\n",
    "from keras.layers import Dense\n",
    "from keras.utils import to_categorical\n",
    "from keras.callbacks import Callback"
   ]
  },
  {
   "cell_type": "markdown",
   "metadata": {},
   "source": [
    "### Load the MNIST dataset"
   ]
  },
  {
   "cell_type": "code",
   "execution_count": 2,
   "metadata": {
    "collapsed": true
   },
   "outputs": [],
   "source": [
    "from keras.datasets import mnist\n",
    "\n",
    "SEED = 2017"
   ]
  },
  {
   "cell_type": "markdown",
   "metadata": {},
   "source": [
    "### Split data into test and train sets"
   ]
  },
  {
   "cell_type": "code",
   "execution_count": 3,
   "metadata": {},
   "outputs": [
    {
     "name": "stdout",
     "output_type": "stream",
     "text": [
      "Downloading data from https://s3.amazonaws.com/img-datasets/mnist.npz\n",
      "11493376/11490434 [==============================] - 5s 0us/step\n"
     ]
    }
   ],
   "source": [
    "(X_train, y_train), (X_val, y_val) = mnist.load_data()"
   ]
  },
  {
   "cell_type": "markdown",
   "metadata": {},
   "source": [
    "### Show an example of each label and print the count per label:"
   ]
  },
  {
   "cell_type": "code",
   "execution_count": 4,
   "metadata": {},
   "outputs": [
    {
     "data": {
      "image/png": "[encoded data removed]",
      "text/plain": [
       "<matplotlib.figure.Figure at 0x7efde3ea1d68>"
      ]
     },
     "metadata": {},
     "output_type": "display_data"
    }
   ],
   "source": [
    "# Plot first image of each label\n",
    "unique_labels = set(y_train)\n",
    "plt.figure(figsize=(12, 12))\n",
    "\n",
    "i = 1\n",
    "for label in unique_labels:\n",
    "    image = X_train[y_train.tolist().index(label)]\n",
    "    plt.subplot(10, 10, i)\n",
    "    plt.axis('off')\n",
    "    plt.title(\"{0}: ({1})\".format(label, y_train.tolist().count(label)))\n",
    "    i += 1\n",
    "    _ = plt.imshow(image, cmap='gray')\n",
    "plt.show()"
   ]
  },
  {
   "cell_type": "markdown",
   "metadata": {},
   "source": [
    "### Preprocess the data"
   ]
  },
  {
   "cell_type": "code",
   "execution_count": 5,
   "metadata": {
    "collapsed": true
   },
   "outputs": [],
   "source": [
    "# Normalize data\n",
    "X_train = X_train.astype('float32')/255.\n",
    "X_val = X_val.astype('float32')/255.\n",
    "\n",
    "# One-Hot-Encode labels\n",
    "n_classes = 10\n",
    "y_train = to_categorical(y_train, n_classes)\n",
    "y_val = to_categorical(y_val, n_classes)\n",
    "\n",
    "# Flatten data - we threat the image as a sequential array of values\n",
    "X_train = np.reshape(X_train, (60000, 784))\n",
    "X_val = np.reshape(X_val, (10000, 784))"
   ]
  },
  {
   "cell_type": "markdown",
   "metadata": {},
   "source": [
    "### Define the model with the sigmoid activation function"
   ]
  },
  {
   "cell_type": "code",
   "execution_count": 6,
   "metadata": {
    "collapsed": true
   },
   "outputs": [],
   "source": [
    "model_sigmoid = Sequential()\n",
    "model_sigmoid.add(Dense(700, input_dim=784, activation='sigmoid'))\n",
    "model_sigmoid.add(Dense(700, activation='sigmoid'))\n",
    "model_sigmoid.add(Dense(700, activation='sigmoid'))\n",
    "model_sigmoid.add(Dense(700, activation='sigmoid'))\n",
    "model_sigmoid.add(Dense(700, activation='sigmoid')) \n",
    "model_sigmoid.add(Dense(350, activation='sigmoid')) \n",
    "model_sigmoid.add(Dense(100, activation='sigmoid')) \n",
    "model_sigmoid.add(Dense(10, activation='softmax'))\n",
    "\n",
    "# Compile model with SGD\n",
    "model_sigmoid.compile(loss='categorical_crossentropy', optimizer='sgd', metrics=['accuracy'])"
   ]
  },
  {
   "cell_type": "markdown",
   "metadata": {},
   "source": [
    "### Define the model with the ReLU activation function"
   ]
  },
  {
   "cell_type": "code",
   "execution_count": 7,
   "metadata": {
    "collapsed": true
   },
   "outputs": [],
   "source": [
    "model_relu = Sequential()\n",
    "model_relu.add(Dense(700, input_dim=784, activation='relu'))\n",
    "model_relu.add(Dense(700, activation='relu'))\n",
    "model_relu.add(Dense(700, activation='relu'))\n",
    "model_relu.add(Dense(700, activation='relu'))\n",
    "model_relu.add(Dense(700, activation='relu')) \n",
    "model_relu.add(Dense(350, activation='relu')) \n",
    "model_relu.add(Dense(100, activation='relu')) \n",
    "model_relu.add(Dense(10, activation='softmax'))\n",
    "\n",
    "# Compile model with SGD\n",
    "model_relu.compile(loss='categorical_crossentropy', optimizer='sgd', metrics=['accuracy'])"
   ]
  },
  {
   "cell_type": "markdown",
   "metadata": {},
   "source": [
    "### Create a callback function to store the loss values per batch"
   ]
  },
  {
   "cell_type": "code",
   "execution_count": 8,
   "metadata": {
    "collapsed": true
   },
   "outputs": [],
   "source": [
    "class history_loss(Callback):\n",
    "    def on_train_begin(self, logs={}):\n",
    "        self.losses = []\n",
    "\n",
    "    def on_batch_end(self, batch, logs={}):\n",
    "        batch_loss = logs.get('loss')\n",
    "        self.losses.append(batch_loss)"
   ]
  },
  {
   "cell_type": "markdown",
   "metadata": {},
   "source": [
    "### Run models"
   ]
  },
  {
   "cell_type": "code",
   "execution_count": 11,
   "metadata": {},
   "outputs": [
    {
     "name": "stdout",
     "output_type": "stream",
     "text": [
      "Train on 48000 samples, validate on 12000 samples\n",
      "Epoch 1/10\n",
      " - 11s - loss: 2.3014 - acc: 0.1140 - val_loss: 2.3022 - val_acc: 0.1060\n",
      "Epoch 2/10\n",
      " - 11s - loss: 2.3013 - acc: 0.1140 - val_loss: 2.3026 - val_acc: 0.1060\n",
      "Epoch 3/10\n",
      " - 11s - loss: 2.3013 - acc: 0.1140 - val_loss: 2.3024 - val_acc: 0.1060\n",
      "Epoch 4/10\n",
      " - 11s - loss: 2.3014 - acc: 0.1140 - val_loss: 2.3023 - val_acc: 0.1060\n",
      "Epoch 5/10\n",
      " - 12s - loss: 2.3013 - acc: 0.1140 - val_loss: 2.3022 - val_acc: 0.1060\n",
      "Epoch 6/10\n",
      " - 11s - loss: 2.3013 - acc: 0.1140 - val_loss: 2.3023 - val_acc: 0.1060\n",
      "Epoch 7/10\n",
      " - 11s - loss: 2.3013 - acc: 0.1134 - val_loss: 2.3027 - val_acc: 0.1060\n",
      "Epoch 8/10\n",
      " - 11s - loss: 2.3014 - acc: 0.1140 - val_loss: 2.3023 - val_acc: 0.1060\n",
      "Epoch 9/10\n",
      " - 11s - loss: 2.3013 - acc: 0.1140 - val_loss: 2.3020 - val_acc: 0.1060\n",
      "Epoch 10/10\n",
      " - 12s - loss: 2.3012 - acc: 0.1139 - val_loss: 2.3022 - val_acc: 0.1060\n",
      "Train on 48000 samples, validate on 12000 samples\n",
      "Epoch 1/10\n",
      " - 12s - loss: 0.1924 - acc: 0.9439 - val_loss: 0.1952 - val_acc: 0.9421\n",
      "Epoch 2/10\n",
      " - 11s - loss: 0.1798 - acc: 0.9476 - val_loss: 0.1758 - val_acc: 0.9501\n",
      "Epoch 3/10\n",
      " - 11s - loss: 0.1683 - acc: 0.9511 - val_loss: 0.1633 - val_acc: 0.9530\n",
      "Epoch 4/10\n",
      " - 11s - loss: 0.1579 - acc: 0.9538 - val_loss: 0.1979 - val_acc: 0.9411\n",
      "Epoch 5/10\n",
      " - 11s - loss: 0.1493 - acc: 0.9559 - val_loss: 0.1544 - val_acc: 0.9555\n",
      "Epoch 6/10\n",
      " - 11s - loss: 0.1409 - acc: 0.9591 - val_loss: 0.1493 - val_acc: 0.9553\n",
      "Epoch 7/10\n",
      " - 11s - loss: 0.1335 - acc: 0.9608 - val_loss: 0.1461 - val_acc: 0.9558\n",
      "Epoch 8/10\n",
      " - 11s - loss: 0.1245 - acc: 0.9634 - val_loss: 0.1453 - val_acc: 0.9564\n",
      "Epoch 9/10\n",
      " - 11s - loss: 0.1187 - acc: 0.9663 - val_loss: 0.1309 - val_acc: 0.9619\n",
      "Epoch 10/10\n",
      " - 11s - loss: 0.1120 - acc: 0.9678 - val_loss: 0.1286 - val_acc: 0.9619\n"
     ]
    },
    {
     "data": {
      "text/plain": [
       "<keras.callbacks.History at 0x7efd8dde2128>"
      ]
     },
     "execution_count": 11,
     "metadata": {},
     "output_type": "execute_result"
    }
   ],
   "source": [
    "n_epochs = 10\n",
    "batch_size = 256\n",
    "validation_split = 0.2\n",
    "\n",
    "history_sigmoid = history_loss()\n",
    "model_sigmoid.fit(X_train, y_train, epochs=n_epochs, batch_size=batch_size, callbacks=[history_sigmoid], validation_split=validation_split, verbose=2)\n",
    "\n",
    "history_relu = history_loss()\n",
    "model_relu.fit(X_train, y_train, epochs=n_epochs, batch_size=batch_size, callbacks=[history_relu], validation_split=validation_split, verbose=2)"
   ]
  },
  {
   "cell_type": "markdown",
   "metadata": {},
   "source": [
    "### Plot Losses"
   ]
  },
  {
   "cell_type": "code",
   "execution_count": 12,
   "metadata": {},
   "outputs": [
    {
     "data": {
      "image/png": "[encoded data removed]",
      "text/plain": [
       "<matplotlib.figure.Figure at 0x7efdb4145d30>"
      ]
     },
     "metadata": {},
     "output_type": "display_data"
    }
   ],
   "source": [
    "plt.plot(np.arange(len(history_sigmoid.losses)), history_sigmoid.losses, label='sigmoid')\n",
    "plt.plot(np.arange(len(history_relu.losses)), history_relu.losses, label='relu')\n",
    "plt.title('Losses')\n",
    "plt.xlabel('number of batches')\n",
    "plt.ylabel('loss')\n",
    "plt.legend(loc=1)\n",
    "plt.show()"
   ]
  },
  {
   "cell_type": "markdown",
   "metadata": {},
   "source": [
    "### Extract the maximum weights of each model per layer"
   ]
  },
  {
   "cell_type": "code",
   "execution_count": 13,
   "metadata": {
    "collapsed": true
   },
   "outputs": [],
   "source": [
    "w_sigmoid = []\n",
    "w_relu = []\n",
    "for i in range(len(model_sigmoid.layers)):\n",
    "    w_sigmoid.append(max(model_sigmoid.layers[i].get_weights()[1]))\n",
    "    w_relu.append(max(model_relu.layers[i].get_weights()[1]))"
   ]
  },
  {
   "cell_type": "markdown",
   "metadata": {},
   "source": [
    "### Plot the weights of both models"
   ]
  },
  {
   "cell_type": "code",
   "execution_count": 14,
   "metadata": {},
   "outputs": [
    {
     "data": {
      "image/png": "[encoded data removed]",
      "text/plain": [
       "<matplotlib.figure.Figure at 0x7efdb4113da0>"
      ]
     },
     "metadata": {},
     "output_type": "display_data"
    }
   ],
   "source": [
    "fig, ax = plt.subplots()\n",
    "\n",
    "index = np.arange(len(model_sigmoid.layers))\n",
    "bar_width = 0.35\n",
    "\n",
    "plt.bar(index, w_sigmoid, bar_width, label='sigmoid', color='b', alpha=0.4)\n",
    "plt.bar(index + bar_width, w_relu, bar_width, label='relu', color='r', alpha=0.4)\n",
    "plt.title('Weights across layers')\n",
    "plt.xlabel('layer number')\n",
    "plt.ylabel('maximum weight')\n",
    "plt.legend(loc=0)\n",
    "\n",
    "plt.xticks(index + bar_width / 2, np.arange(8))\n",
    "plt.show()"
   ]
  }
 ],
 "metadata": {
  "kernelspec": {
   "display_name": "Python 3",
   "language": "python",
   "name": "python3"
  },
  "language_info": {
   "codemirror_mode": {
    "name": "ipython",
    "version": 3
   },
   "file_extension": ".py",
   "mimetype": "text/x-python",
   "name": "python",
   "nbconvert_exporter": "python",
   "pygments_lexer": "ipython3",
   "version": "3.6.2"
  },
  "widgets": {
   "state": {},
   "version": "1.1.2"
  }
 },
 "nbformat": 4,
 "nbformat_minor": 2
}

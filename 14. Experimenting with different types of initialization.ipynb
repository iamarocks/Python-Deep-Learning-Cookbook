{
 "cells": [
  {
   "cell_type": "markdown",
   "metadata": {},
   "source": [
    "# Experimenting with different types of initialization\n",
    "For CNNs, the initialization of the weights and biases can be extremely important. For very deep neural networks, some initialization techniques may lead to diminishing gradients caused by the magnitude of the gradient in the final layers. In the following recipe, we will show you how to use different initializations for a well-known network and demonstrate the difference in performance. By picking the right initialization, one can speed up convergence of a network. In the following recipe, we first initialize the weights and bias of the network with the popular Gaussian noise, with the mean equal to zero and a standard deviation of 0.01. Afterwards, we use Xavier initialization, both normal and uniform, and some other popular initialization distributions."
   ]
  },
  {
   "cell_type": "code",
   "execution_count": 1,
   "metadata": {},
   "outputs": [
    {
     "name": "stderr",
     "output_type": "stream",
     "text": [
      "Using TensorFlow backend.\n"
     ]
    }
   ],
   "source": [
    "import glob\n",
    "import numpy as np\n",
    "import cv2\n",
    "from matplotlib import pyplot as plt\n",
    "from sklearn.model_selection import train_test_split\n",
    "\n",
    "from keras.utils import np_utils\n",
    "from keras import utils, losses, optimizers\n",
    "from keras.models import Sequential\n",
    "from keras.layers.core import Dense, Dropout, Activation, Flatten, Lambda\n",
    "from keras.callbacks import EarlyStopping, ModelCheckpoint\n",
    "from keras.layers import Conv2D, MaxPooling2D\n",
    "\n",
    "SEED = 2017"
   ]
  },
  {
   "cell_type": "markdown",
   "metadata": {},
   "source": [
    "### Loading the filenames and outputting the training set sizes"
   ]
  },
  {
   "cell_type": "code",
   "execution_count": 2,
   "metadata": {},
   "outputs": [
    {
     "name": "stdout",
     "output_type": "stream",
     "text": [
      "#Cats: 12500, #Dogs: 12500\n"
     ]
    }
   ],
   "source": [
    "# Specify data directory and extract all file names for both classes\n",
    "DATA_DIR = 'data/'\n",
    "cats = glob.glob(DATA_DIR + \"Cat/*.jpg\")\n",
    "dogs = glob.glob(DATA_DIR + \"Dog/*.jpg\")\n",
    "\n",
    "print('#Cats: {}, #Dogs: {}'.format(len(cats), len(dogs)))\n",
    "# #Cats: 12500, #Dogs: 12500"
   ]
  },
  {
   "cell_type": "markdown",
   "metadata": {},
   "source": [
    "### Split the data in a training and validation set"
   ]
  },
  {
   "cell_type": "code",
   "execution_count": 3,
   "metadata": {
    "collapsed": true
   },
   "outputs": [],
   "source": [
    "dogs_train, dogs_val, cats_train, cats_val = train_test_split(dogs, cats, test_size=0.2, random_state=SEED)"
   ]
  },
  {
   "cell_type": "markdown",
   "metadata": {},
   "source": [
    "### The training set is relatively large; we will be using a batch generator so that we don't have to load all images in memory"
   ]
  },
  {
   "cell_type": "code",
   "execution_count": 4,
   "metadata": {
    "collapsed": true
   },
   "outputs": [],
   "source": [
    "def batchgen(cats, dogs, batch_size, img_size=50):\n",
    "    # Create empty numpy arrays\n",
    "    batch_images = np.zeros((batch_size, img_size, img_size, 3))\n",
    "    batch_label = np.zeros(batch_size)\n",
    "\n",
    "    # Custom batch generator \n",
    "    while 1:\n",
    "        n = 0\n",
    "        while n < batch_size:\n",
    "            # Randomly pick a dog or cat image\n",
    "            if np.random.randint(2) == 1:\n",
    "                i = np.random.randint(len(dogs))\n",
    "                img = cv2.imread(dogs[i])\n",
    "                if img is None:\n",
    "                    break\n",
    "                img = cv2.cvtColor(img, cv2.COLOR_BGR2RGB)\n",
    "                # The images have different dimensions, we resize all to 100x100\n",
    "                img = cv2.resize(img, (img_size, img_size), interpolation = cv2.INTER_AREA)\n",
    "                y = 1\n",
    "\n",
    "            else:\n",
    "                i = np.random.randint(len(cats))\n",
    "                img = cv2.imread(cats[i])\n",
    "                if img is None:\n",
    "                    break\n",
    "                img = cv2.cvtColor(img, cv2.COLOR_BGR2RGB)\n",
    "                img = cv2.resize(img, (img_size, img_size), interpolation = cv2.INTER_AREA)\n",
    "                y = 0\n",
    "        \n",
    "            batch_images[n] = img\n",
    "            batch_label[n] = y\n",
    "            n+=1\n",
    "        yield batch_images, batch_label"
   ]
  },
  {
   "cell_type": "markdown",
   "metadata": {},
   "source": [
    "### Define a function that creates a model, given parameters for the stride and padding"
   ]
  },
  {
   "cell_type": "code",
   "execution_count": 5,
   "metadata": {
    "collapsed": true
   },
   "outputs": [],
   "source": [
    "def create_model(init_type='xavier', img_size=100):\n",
    "    # Define architecture\n",
    "    model = Sequential()\n",
    "    model.add(Lambda(lambda x: (x / 255.) - 0.5, input_shape=(img_size, img_size, 3)))\n",
    "    model.add(Conv2D(32, (3, 3), activation='relu', kernel_initializer=init_type))\n",
    "    model.add(Conv2D(32, (3, 3), activation='relu', kernel_initializer=init_type))\n",
    "    model.add(MaxPooling2D(pool_size=(2,2)))\n",
    "    model.add(Dropout(0.5))\n",
    "    model.add(Conv2D(64, (3, 3), activation='relu', kernel_initializer=init_type))\n",
    "    model.add(Conv2D(64, (3, 3), activation='relu', kernel_initializer=init_type))\n",
    "\n",
    "    model.add(Dropout(0.5))\n",
    "    model.add(Flatten())\n",
    "    model.add(Dense(64, activation='relu'))\n",
    "    model.add(Dropout(0.5))\n",
    "    model.add(Dense(1, activation='sigmoid'))\n",
    " \n",
    "    sgd = optimizers.Adam()\n",
    "    model.compile(loss='binary_crossentropy', optimizer=sgd, metrics=['binary_accuracy'])\n",
    " \n",
    "    return model"
   ]
  },
  {
   "cell_type": "markdown",
   "metadata": {},
   "source": [
    "### Define a model for each initialization type"
   ]
  },
  {
   "cell_type": "code",
   "execution_count": 6,
   "metadata": {
    "collapsed": true
   },
   "outputs": [],
   "source": [
    "models = []\n",
    "for init_type in ['random_uniform', 'glorot_normal', 'glorot_uniform', 'lecun_uniform', 'he_uniform']:\n",
    "    model = create_model(init_type, img_size=50)\n",
    "    models.append(dict({'setting': '{}'.format(init_type), \n",
    "            'model': model\n",
    "            }))"
   ]
  },
  {
   "cell_type": "markdown",
   "metadata": {},
   "source": [
    "### Use early stopping to prevent overfitting on the training data"
   ]
  },
  {
   "cell_type": "code",
   "execution_count": 7,
   "metadata": {
    "collapsed": true
   },
   "outputs": [],
   "source": [
    "callbacks = [EarlyStopping(monitor='val_binary_accuracy', patience=3)]"
   ]
  },
  {
   "cell_type": "markdown",
   "metadata": {},
   "source": [
    "### Train our models and store the results"
   ]
  },
  {
   "cell_type": "code",
   "execution_count": 8,
   "metadata": {},
   "outputs": [
    {
     "name": "stdout",
     "output_type": "stream",
     "text": [
      "{'setting': 'random_uniform', 'model': <keras.models.Sequential object at 0x7fc1300ac128>}\n",
      "Epoch 1/500\n",
      "100/100 [==============================] - 1370s 14s/step - loss: 0.6509 - binary_accuracy: 0.6082 - val_loss: 0.5892 - val_binary_accuracy: 0.6904\n",
      "Epoch 2/500\n",
      "100/100 [==============================] - 1197s 12s/step - loss: 0.5637 - binary_accuracy: 0.7121 - val_loss: 0.5344 - val_binary_accuracy: 0.7242\n",
      "Epoch 3/500\n",
      "100/100 [==============================] - 896s 9s/step - loss: 0.5147 - binary_accuracy: 0.7496 - val_loss: 0.4934 - val_binary_accuracy: 0.7625\n",
      "Epoch 4/500\n",
      "100/100 [==============================] - 895s 9s/step - loss: 0.4751 - binary_accuracy: 0.7754 - val_loss: 0.4671 - val_binary_accuracy: 0.7902\n",
      "Epoch 5/500\n",
      "100/100 [==============================] - 859s 9s/step - loss: 0.4469 - binary_accuracy: 0.7938 - val_loss: 0.4577 - val_binary_accuracy: 0.7805\n",
      "Epoch 6/500\n",
      "100/100 [==============================] - 857s 9s/step - loss: 0.4100 - binary_accuracy: 0.8146 - val_loss: 0.4041 - val_binary_accuracy: 0.8145\n",
      "Epoch 7/500\n",
      "100/100 [==============================] - 868s 9s/step - loss: 0.3891 - binary_accuracy: 0.8270 - val_loss: 0.4309 - val_binary_accuracy: 0.8012\n",
      "Epoch 8/500\n",
      "100/100 [==============================] - 852s 9s/step - loss: 0.3708 - binary_accuracy: 0.8351 - val_loss: 0.4543 - val_binary_accuracy: 0.7967\n",
      "Epoch 9/500\n",
      "100/100 [==============================] - 857s 9s/step - loss: 0.3595 - binary_accuracy: 0.8434 - val_loss: 0.3887 - val_binary_accuracy: 0.8316\n",
      "Epoch 10/500\n",
      "100/100 [==============================] - 851s 9s/step - loss: 0.3412 - binary_accuracy: 0.8502 - val_loss: 0.3645 - val_binary_accuracy: 0.8375\n",
      "Epoch 11/500\n",
      "100/100 [==============================] - 860s 9s/step - loss: 0.3290 - binary_accuracy: 0.8574 - val_loss: 0.3968 - val_binary_accuracy: 0.8283\n",
      "Epoch 12/500\n",
      "100/100 [==============================] - 853s 9s/step - loss: 0.3118 - binary_accuracy: 0.8674 - val_loss: 0.3384 - val_binary_accuracy: 0.8543\n",
      "Epoch 13/500\n",
      "100/100 [==============================] - 868s 9s/step - loss: 0.3181 - binary_accuracy: 0.8633 - val_loss: 0.3560 - val_binary_accuracy: 0.8494\n",
      "Epoch 14/500\n",
      "100/100 [==============================] - 860s 9s/step - loss: 0.2985 - binary_accuracy: 0.8750 - val_loss: 0.3668 - val_binary_accuracy: 0.8400\n",
      "Epoch 15/500\n",
      "100/100 [==============================] - 860s 9s/step - loss: 0.2835 - binary_accuracy: 0.8800 - val_loss: 0.3664 - val_binary_accuracy: 0.8541\n",
      "{'setting': 'glorot_normal', 'model': <keras.models.Sequential object at 0x7fc12fd47d68>}\n",
      "Epoch 1/500\n",
      "100/100 [==============================] - 858s 9s/step - loss: 0.6329 - binary_accuracy: 0.6384 - val_loss: 0.5598 - val_binary_accuracy: 0.7105\n",
      "Epoch 2/500\n",
      "100/100 [==============================] - 863s 9s/step - loss: 0.5530 - binary_accuracy: 0.7225 - val_loss: 0.5157 - val_binary_accuracy: 0.7477\n",
      "Epoch 3/500\n",
      "100/100 [==============================] - 848s 8s/step - loss: 0.4910 - binary_accuracy: 0.7668 - val_loss: 0.4485 - val_binary_accuracy: 0.7977\n",
      "Epoch 4/500\n",
      "100/100 [==============================] - 864s 9s/step - loss: 0.4390 - binary_accuracy: 0.8005 - val_loss: 0.4147 - val_binary_accuracy: 0.8129\n",
      "Epoch 5/500\n",
      "100/100 [==============================] - 846s 8s/step - loss: 0.4100 - binary_accuracy: 0.8173 - val_loss: 0.3891 - val_binary_accuracy: 0.8293\n",
      "Epoch 6/500\n",
      "100/100 [==============================] - 870s 9s/step - loss: 0.3869 - binary_accuracy: 0.8295 - val_loss: 0.3546 - val_binary_accuracy: 0.8414\n",
      "Epoch 7/500\n",
      "100/100 [==============================] - 853s 9s/step - loss: 0.3625 - binary_accuracy: 0.8405 - val_loss: 0.3651 - val_binary_accuracy: 0.8443\n",
      "Epoch 8/500\n",
      "100/100 [==============================] - 852s 9s/step - loss: 0.3397 - binary_accuracy: 0.8529 - val_loss: 0.3436 - val_binary_accuracy: 0.8551\n",
      "Epoch 9/500\n",
      "100/100 [==============================] - 847s 8s/step - loss: 0.3205 - binary_accuracy: 0.8642 - val_loss: 0.3428 - val_binary_accuracy: 0.8562\n",
      "Epoch 10/500\n",
      "100/100 [==============================] - 855s 9s/step - loss: 0.3092 - binary_accuracy: 0.8697 - val_loss: 0.3325 - val_binary_accuracy: 0.8625\n",
      "Epoch 11/500\n",
      "100/100 [==============================] - 848s 8s/step - loss: 0.2961 - binary_accuracy: 0.8737 - val_loss: 0.3564 - val_binary_accuracy: 0.8496\n",
      "Epoch 12/500\n",
      "100/100 [==============================] - 853s 9s/step - loss: 0.2699 - binary_accuracy: 0.8869 - val_loss: 0.3612 - val_binary_accuracy: 0.8613\n",
      "Epoch 13/500\n",
      "100/100 [==============================] - 845s 8s/step - loss: 0.2616 - binary_accuracy: 0.8924 - val_loss: 0.3787 - val_binary_accuracy: 0.8541\n",
      "{'setting': 'glorot_uniform', 'model': <keras.models.Sequential object at 0x7fc12fb68710>}\n",
      "Epoch 1/500\n",
      "100/100 [==============================] - 854s 9s/step - loss: 0.6240 - binary_accuracy: 0.6475 - val_loss: 0.5527 - val_binary_accuracy: 0.7311\n",
      "Epoch 2/500\n",
      "100/100 [==============================] - 857s 9s/step - loss: 0.5261 - binary_accuracy: 0.7430 - val_loss: 0.4725 - val_binary_accuracy: 0.7822\n",
      "Epoch 3/500\n",
      "100/100 [==============================] - 799s 8s/step - loss: 0.4586 - binary_accuracy: 0.7874 - val_loss: 0.4420 - val_binary_accuracy: 0.7893\n",
      "Epoch 4/500\n",
      "100/100 [==============================] - 596s 6s/step - loss: 0.4192 - binary_accuracy: 0.8104 - val_loss: 0.4031 - val_binary_accuracy: 0.8246\n",
      "Epoch 5/500\n",
      "100/100 [==============================] - 602s 6s/step - loss: 0.3936 - binary_accuracy: 0.8241 - val_loss: 0.3952 - val_binary_accuracy: 0.8258\n",
      "Epoch 6/500\n",
      "100/100 [==============================] - 597s 6s/step - loss: 0.3681 - binary_accuracy: 0.8365 - val_loss: 0.4028 - val_binary_accuracy: 0.8189\n",
      "Epoch 7/500\n",
      "100/100 [==============================] - 601s 6s/step - loss: 0.3457 - binary_accuracy: 0.8505 - val_loss: 0.3629 - val_binary_accuracy: 0.8479\n",
      "Epoch 8/500\n",
      "100/100 [==============================] - 596s 6s/step - loss: 0.3236 - binary_accuracy: 0.8611 - val_loss: 0.3525 - val_binary_accuracy: 0.8461\n",
      "Epoch 9/500\n",
      "100/100 [==============================] - 601s 6s/step - loss: 0.3061 - binary_accuracy: 0.8711 - val_loss: 0.3856 - val_binary_accuracy: 0.8375\n",
      "Epoch 10/500\n",
      "100/100 [==============================] - 598s 6s/step - loss: 0.2903 - binary_accuracy: 0.8759 - val_loss: 0.3460 - val_binary_accuracy: 0.8605\n",
      "Epoch 11/500\n",
      "100/100 [==============================] - 600s 6s/step - loss: 0.2801 - binary_accuracy: 0.8812 - val_loss: 0.3643 - val_binary_accuracy: 0.8611\n",
      "Epoch 12/500\n",
      "100/100 [==============================] - 595s 6s/step - loss: 0.2621 - binary_accuracy: 0.8891 - val_loss: 0.3436 - val_binary_accuracy: 0.8613\n",
      "Epoch 13/500\n",
      "100/100 [==============================] - 602s 6s/step - loss: 0.2509 - binary_accuracy: 0.8942 - val_loss: 0.3604 - val_binary_accuracy: 0.8580\n",
      "Epoch 14/500\n",
      "100/100 [==============================] - 596s 6s/step - loss: 0.2312 - binary_accuracy: 0.9043 - val_loss: 0.3976 - val_binary_accuracy: 0.8533\n",
      "Epoch 15/500\n",
      "100/100 [==============================] - 602s 6s/step - loss: 0.2205 - binary_accuracy: 0.9087 - val_loss: 0.3649 - val_binary_accuracy: 0.8682\n",
      "Epoch 16/500\n",
      "100/100 [==============================] - 598s 6s/step - loss: 0.2141 - binary_accuracy: 0.9122 - val_loss: 0.3957 - val_binary_accuracy: 0.8633\n",
      "Epoch 17/500\n",
      "100/100 [==============================] - 599s 6s/step - loss: 0.1950 - binary_accuracy: 0.9200 - val_loss: 0.3348 - val_binary_accuracy: 0.8750\n",
      "Epoch 18/500\n",
      "100/100 [==============================] - 598s 6s/step - loss: 0.1805 - binary_accuracy: 0.9261 - val_loss: 0.3652 - val_binary_accuracy: 0.8758\n",
      "Epoch 19/500\n",
      "100/100 [==============================] - 595s 6s/step - loss: 0.1811 - binary_accuracy: 0.9267 - val_loss: 0.3362 - val_binary_accuracy: 0.8707\n",
      "Epoch 20/500\n",
      "100/100 [==============================] - 603s 6s/step - loss: 0.1686 - binary_accuracy: 0.9309 - val_loss: 0.3527 - val_binary_accuracy: 0.8754\n",
      "Epoch 21/500\n",
      "100/100 [==============================] - 598s 6s/step - loss: 0.1594 - binary_accuracy: 0.9349 - val_loss: 0.3611 - val_binary_accuracy: 0.8723\n",
      "{'setting': 'lecun_uniform', 'model': <keras.models.Sequential object at 0x7fc12f95eac8>}\n",
      "Epoch 1/500\n"
     ]
    },
    {
     "name": "stdout",
     "output_type": "stream",
     "text": [
      "100/100 [==============================] - 607s 6s/step - loss: 0.6651 - binary_accuracy: 0.5851 - val_loss: 0.5753 - val_binary_accuracy: 0.7053\n",
      "Epoch 2/500\n",
      "100/100 [==============================] - 603s 6s/step - loss: 0.5709 - binary_accuracy: 0.7072 - val_loss: 0.5161 - val_binary_accuracy: 0.7416\n",
      "Epoch 3/500\n",
      "100/100 [==============================] - 606s 6s/step - loss: 0.5038 - binary_accuracy: 0.7589 - val_loss: 0.4489 - val_binary_accuracy: 0.7852\n",
      "Epoch 4/500\n",
      "100/100 [==============================] - 603s 6s/step - loss: 0.4468 - binary_accuracy: 0.7971 - val_loss: 0.4176 - val_binary_accuracy: 0.8098\n",
      "Epoch 5/500\n",
      "100/100 [==============================] - 600s 6s/step - loss: 0.4196 - binary_accuracy: 0.8103 - val_loss: 0.3790 - val_binary_accuracy: 0.8354\n",
      "Epoch 6/500\n",
      "100/100 [==============================] - 598s 6s/step - loss: 0.3900 - binary_accuracy: 0.8260 - val_loss: 0.3803 - val_binary_accuracy: 0.8307\n",
      "Epoch 7/500\n",
      "100/100 [==============================] - 622s 6s/step - loss: 0.3630 - binary_accuracy: 0.8394 - val_loss: 0.3665 - val_binary_accuracy: 0.8443\n",
      "Epoch 8/500\n",
      "100/100 [==============================] - 608s 6s/step - loss: 0.3423 - binary_accuracy: 0.8525 - val_loss: 0.3427 - val_binary_accuracy: 0.8574\n",
      "Epoch 9/500\n",
      "100/100 [==============================] - 606s 6s/step - loss: 0.3202 - binary_accuracy: 0.8637 - val_loss: 0.3408 - val_binary_accuracy: 0.8549\n",
      "Epoch 10/500\n",
      "100/100 [==============================] - 598s 6s/step - loss: 0.3094 - binary_accuracy: 0.8689 - val_loss: 0.3240 - val_binary_accuracy: 0.8615\n",
      "Epoch 11/500\n",
      "100/100 [==============================] - 602s 6s/step - loss: 0.2874 - binary_accuracy: 0.8783 - val_loss: 0.3532 - val_binary_accuracy: 0.8539\n",
      "Epoch 12/500\n",
      "100/100 [==============================] - 597s 6s/step - loss: 0.2773 - binary_accuracy: 0.8845 - val_loss: 0.3399 - val_binary_accuracy: 0.8654\n",
      "Epoch 13/500\n",
      "100/100 [==============================] - 601s 6s/step - loss: 0.2686 - binary_accuracy: 0.8872 - val_loss: 0.3925 - val_binary_accuracy: 0.8455\n",
      "Epoch 14/500\n",
      "100/100 [==============================] - 601s 6s/step - loss: 0.2450 - binary_accuracy: 0.8986 - val_loss: 0.3416 - val_binary_accuracy: 0.8645\n",
      "Epoch 15/500\n",
      "100/100 [==============================] - 595s 6s/step - loss: 0.2412 - binary_accuracy: 0.8996 - val_loss: 0.3806 - val_binary_accuracy: 0.8549\n",
      "{'setting': 'he_uniform', 'model': <keras.models.Sequential object at 0x7fc12f702c88>}\n",
      "Epoch 1/500\n",
      "100/100 [==============================] - 606s 6s/step - loss: 0.7263 - binary_accuracy: 0.4999 - val_loss: 0.6858 - val_binary_accuracy: 0.5025\n",
      "Epoch 2/500\n",
      "100/100 [==============================] - 594s 6s/step - loss: 0.6774 - binary_accuracy: 0.5826 - val_loss: 0.6602 - val_binary_accuracy: 0.6514\n",
      "Epoch 3/500\n",
      "100/100 [==============================] - 601s 6s/step - loss: 0.6456 - binary_accuracy: 0.6617 - val_loss: 0.6187 - val_binary_accuracy: 0.6988\n",
      "Epoch 4/500\n",
      "100/100 [==============================] - 597s 6s/step - loss: 0.6062 - binary_accuracy: 0.7136 - val_loss: 0.5652 - val_binary_accuracy: 0.7484\n",
      "Epoch 5/500\n",
      "100/100 [==============================] - 602s 6s/step - loss: 0.5684 - binary_accuracy: 0.7489 - val_loss: 0.5446 - val_binary_accuracy: 0.7689\n",
      "Epoch 6/500\n",
      "100/100 [==============================] - 597s 6s/step - loss: 0.5388 - binary_accuracy: 0.7709 - val_loss: 0.5199 - val_binary_accuracy: 0.7877\n",
      "Epoch 7/500\n",
      "100/100 [==============================] - 602s 6s/step - loss: 0.5127 - binary_accuracy: 0.7871 - val_loss: 0.5026 - val_binary_accuracy: 0.7818\n",
      "Epoch 8/500\n",
      "100/100 [==============================] - 600s 6s/step - loss: 0.4906 - binary_accuracy: 0.7984 - val_loss: 0.4775 - val_binary_accuracy: 0.8127\n",
      "Epoch 9/500\n",
      "100/100 [==============================] - 596s 6s/step - loss: 0.4673 - binary_accuracy: 0.8127 - val_loss: 0.4661 - val_binary_accuracy: 0.8072\n",
      "Epoch 10/500\n",
      "100/100 [==============================] - 602s 6s/step - loss: 0.4475 - binary_accuracy: 0.8243 - val_loss: 0.4610 - val_binary_accuracy: 0.8066\n",
      "Epoch 11/500\n",
      "100/100 [==============================] - 594s 6s/step - loss: 0.4247 - binary_accuracy: 0.8339 - val_loss: 0.4376 - val_binary_accuracy: 0.8201\n",
      "Epoch 12/500\n",
      "100/100 [==============================] - 599s 6s/step - loss: 0.4159 - binary_accuracy: 0.8366 - val_loss: 0.4529 - val_binary_accuracy: 0.7998\n",
      "Epoch 13/500\n",
      "100/100 [==============================] - 600s 6s/step - loss: 0.3927 - binary_accuracy: 0.8497 - val_loss: 0.4283 - val_binary_accuracy: 0.8145\n",
      "Epoch 14/500\n",
      "100/100 [==============================] - 603s 6s/step - loss: 0.3824 - binary_accuracy: 0.8535 - val_loss: 0.4172 - val_binary_accuracy: 0.8316\n",
      "Epoch 15/500\n",
      "100/100 [==============================] - 599s 6s/step - loss: 0.3718 - binary_accuracy: 0.8571 - val_loss: 0.4250 - val_binary_accuracy: 0.8430\n",
      "Epoch 16/500\n",
      "100/100 [==============================] - 606s 6s/step - loss: 0.3663 - binary_accuracy: 0.8597 - val_loss: 0.4055 - val_binary_accuracy: 0.8326\n",
      "Epoch 17/500\n",
      "100/100 [==============================] - 602s 6s/step - loss: 0.3478 - binary_accuracy: 0.8691 - val_loss: 0.4036 - val_binary_accuracy: 0.8283\n",
      "Epoch 18/500\n",
      "100/100 [==============================] - 595s 6s/step - loss: 0.3377 - binary_accuracy: 0.8721 - val_loss: 0.3909 - val_binary_accuracy: 0.8352\n"
     ]
    }
   ],
   "source": [
    "batch_size = 512\n",
    "n_epochs = 500\n",
    "steps_per_epoch = 100\n",
    "validation_steps = round((len(dogs_val)+len(cats_val))/batch_size)\n",
    "\n",
    "train_generator = batchgen(dogs_train, cats_train, batch_size)\n",
    "val_generator = batchgen(dogs_val, cats_val, batch_size)\n",
    "\n",
    "history = []\n",
    "for i in range(len(models)):\n",
    "    print(models[i])\n",
    "    history.append(\n",
    "        models[i]['model'].\n",
    "        fit_generator(train_generator, steps_per_epoch=steps_per_epoch, epochs=n_epochs, validation_data=val_generator, validation_steps=validation_steps, callbacks=callbacks)\n",
    "    )"
   ]
  },
  {
   "cell_type": "markdown",
   "metadata": {},
   "source": [
    "### Visualize the results"
   ]
  },
  {
   "cell_type": "code",
   "execution_count": 9,
   "metadata": {},
   "outputs": [
    {
     "name": "stdout",
     "output_type": "stream",
     "text": [
      "Max accuracy model random_uniform: 0.854296875\n",
      "Max accuracy model glorot_normal: 0.8625\n",
      "Max accuracy model glorot_uniform: 0.87578125\n",
      "Max accuracy model lecun_uniform: 0.8654296875\n",
      "Max accuracy model he_uniform: 0.84296875\n"
     ]
    },
    {
     "data": {
      "image/png": "[encoded data removed]",
      "text/plain": [
       "<matplotlib.figure.Figure at 0x7fc1245137b8>"
      ]
     },
     "metadata": {},
     "output_type": "display_data"
    }
   ],
   "source": [
    "for i in range(len(models)):\n",
    "    plt.plot(range(len(history[i].history['val_binary_accuracy'])), history[i].history['val_binary_accuracy'], label=models[i]['setting'])\n",
    "    print('Max accuracy model {}: {}'.format(models[i]['setting'], max(history[i].history['val_binary_accuracy'])))\n",
    "plt.title('Accuracy on the validation set')\n",
    "plt.xlabel('epochs')\n",
    "plt.ylabel('accuracy')\n",
    "plt.legend()\n",
    "plt.show()"
   ]
  },
  {
   "cell_type": "markdown",
   "metadata": {},
   "source": [
    "Performance comparison with different initialization settings for the weights"
   ]
  },
  {
   "cell_type": "markdown",
   "metadata": {},
   "source": [
    "As you can see, the type of initialization of the weights can have an impact on the results. Testing all different initialization methods can be computer expensive, so is often not desired. For CNNs, the default settings of each framework often do a great job. For a 2D convolutional layer, the Glorot uniform distributed weights (also known as Xavier uniform initialization) are generally used as the default."
   ]
  }
 ],
 "metadata": {
  "kernelspec": {
   "display_name": "Python 3",
   "language": "python",
   "name": "python3"
  },
  "language_info": {
   "codemirror_mode": {
    "name": "ipython",
    "version": 3
   },
   "file_extension": ".py",
   "mimetype": "text/x-python",
   "name": "python",
   "nbconvert_exporter": "python",
   "pygments_lexer": "ipython3",
   "version": "3.6.2"
  },
  "widgets": {
   "state": {},
   "version": "1.1.2"
  }
 },
 "nbformat": 4,
 "nbformat_minor": 2
}

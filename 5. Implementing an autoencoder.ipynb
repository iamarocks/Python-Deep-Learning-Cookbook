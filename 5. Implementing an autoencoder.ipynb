{
 "cells": [
  {
   "cell_type": "markdown",
   "metadata": {},
   "source": [
    "# Implementing an Autoencoder"
   ]
  },
  {
   "cell_type": "markdown",
   "metadata": {},
   "source": [
    "For autoencoders, we use a different network architecture, as shown in the following figure. In the first couple of layers, we decrease the number of hidden units. Halfway, we start increasing the number of hidden units again until the number of hidden units is the same as the number of input variables.\n",
    "<br> \n",
    "The middle hidden layer can be seen as an encoded variant of the inputs, where the output determines the quality of the encoded variant \n",
    "![alt text][logo]\n",
    "\n",
    "[logo]: https://github.com/sara-kassani/Python-Deep-Learning-Cookbook/blob/master/data/deep_autoencoder.png?raw=true \"Autoencoder\"\n",
    "In this example, we will implement an autoencoder in Keras to decode Street View House Numbers (SVHN) from 32 x 32images to 32 floating numbers. We can determine the quality of the encoder by decoding back to 32 x 32 and comparing the images."
   ]
  },
  {
   "cell_type": "code",
   "execution_count": 1,
   "metadata": {},
   "outputs": [
    {
     "name": "stderr",
     "output_type": "stream",
     "text": [
      "Using TensorFlow backend.\n"
     ]
    }
   ],
   "source": [
    "import numpy as np\n",
    "from matplotlib import pyplot as plt\n",
    "import scipy.io\n",
    "import scipy\n",
    "from keras.models import Sequential\n",
    "from keras.layers.core import Dense\n",
    "from keras.optimizers import Adam"
   ]
  },
  {
   "cell_type": "markdown",
   "metadata": {},
   "source": [
    "### Load data"
   ]
  },
  {
   "cell_type": "code",
   "execution_count": 2,
   "metadata": {
    "collapsed": true
   },
   "outputs": [],
   "source": [
    "# Data can be downloaded at http://ufldl.stanford.edu/housenumbers/"
   ]
  },
  {
   "cell_type": "code",
   "execution_count": 3,
   "metadata": {},
   "outputs": [],
   "source": [
    "mat = scipy.io.loadmat('data/train_32x32.mat')\n",
    "mat = mat['X']\n",
    "b, h, d, n = mat.shape"
   ]
  },
  {
   "cell_type": "markdown",
   "metadata": {},
   "source": [
    "### Preprocess the data"
   ]
  },
  {
   "cell_type": "code",
   "execution_count": 4,
   "metadata": {
    "collapsed": true
   },
   "outputs": [],
   "source": [
    "# Grayscale\n",
    "img_gray = np.zeros(shape =(n, b * h))\n",
    "\n",
    "def rgb2gray(rgb):    \n",
    "    return np.dot(rgb[...,:3], [0.299, 0.587, 0.114])\n",
    "\n",
    "for i in range(n):\n",
    "    #Convert to greyscale\n",
    "    img = rgb2gray(mat[:,:,:,i])\n",
    "    img = img.reshape(1, 1024)\n",
    "    img_gray[i,:] = img\n",
    "\n",
    "# Normalize\n",
    "X_train = img_gray/255."
   ]
  },
  {
   "cell_type": "markdown",
   "metadata": {},
   "source": [
    "### Define the autoencoder network architecture"
   ]
  },
  {
   "cell_type": "code",
   "execution_count": 5,
   "metadata": {
    "collapsed": true
   },
   "outputs": [],
   "source": [
    "img_size = X_train.shape[1]\n",
    "model = Sequential()\n",
    "model.add(Dense(256, input_dim=img_size, activation='relu'))\n",
    "model.add(Dense(128, activation='relu'))\n",
    "model.add(Dense(64, activation='relu'))\n",
    "model.add(Dense(32, activation='relu'))\n",
    "\n",
    "model.add(Dense(64, activation='relu'))\n",
    "model.add(Dense(128, activation='relu'))\n",
    "model.add(Dense(256, activation='relu'))\n",
    "model.add(Dense(img_size, activation='sigmoid'))\n",
    "\n",
    "opt = Adam()\n",
    "model.compile(loss='binary_crossentropy', optimizer=opt)"
   ]
  },
  {
   "cell_type": "markdown",
   "metadata": {},
   "source": [
    "### Train the autencoder"
   ]
  },
  {
   "cell_type": "code",
   "execution_count": 6,
   "metadata": {},
   "outputs": [
    {
     "name": "stdout",
     "output_type": "stream",
     "text": [
      "Train on 58605 samples, validate on 14652 samples\n",
      "Epoch 1/100\n",
      "58605/58605 [==============================] - 9s 152us/step - loss: 0.6574 - val_loss: 0.6338\n",
      "Epoch 2/100\n",
      "58605/58605 [==============================] - 7s 113us/step - loss: 0.6318 - val_loss: 0.6291\n",
      "Epoch 3/100\n",
      "58605/58605 [==============================] - 7s 117us/step - loss: 0.6275 - val_loss: 0.6257\n",
      "Epoch 4/100\n",
      "58605/58605 [==============================] - 7s 125us/step - loss: 0.6259 - val_loss: 0.6254\n",
      "Epoch 5/100\n",
      "58605/58605 [==============================] - 7s 118us/step - loss: 0.6242 - val_loss: 0.6268\n",
      "Epoch 6/100\n",
      "58605/58605 [==============================] - 9s 146us/step - loss: 0.6232 - val_loss: 0.6224\n",
      "Epoch 7/100\n",
      "58605/58605 [==============================] - 8s 141us/step - loss: 0.6226 - val_loss: 0.6217\n",
      "Epoch 8/100\n",
      "58605/58605 [==============================] - 7s 125us/step - loss: 0.6217 - val_loss: 0.6209\n",
      "Epoch 9/100\n",
      "58605/58605 [==============================] - 8s 141us/step - loss: 0.6213 - val_loss: 0.6207\n",
      "Epoch 10/100\n",
      "58605/58605 [==============================] - 7s 127us/step - loss: 0.6206 - val_loss: 0.6199\n",
      "Epoch 11/100\n",
      "58605/58605 [==============================] - 7s 119us/step - loss: 0.6201 - val_loss: 0.6193\n",
      "Epoch 12/100\n",
      "58605/58605 [==============================] - 7s 125us/step - loss: 0.6196 - val_loss: 0.6189\n",
      "Epoch 13/100\n",
      "58605/58605 [==============================] - 8s 142us/step - loss: 0.6193 - val_loss: 0.6186\n",
      "Epoch 14/100\n",
      "58605/58605 [==============================] - 8s 142us/step - loss: 0.6185 - val_loss: 0.6179\n",
      "Epoch 15/100\n",
      "58605/58605 [==============================] - 8s 130us/step - loss: 0.6183 - val_loss: 0.6176\n",
      "Epoch 16/100\n",
      "58605/58605 [==============================] - 7s 126us/step - loss: 0.6178 - val_loss: 0.6174\n",
      "Epoch 17/100\n",
      "58605/58605 [==============================] - 7s 122us/step - loss: 0.6175 - val_loss: 0.6170\n",
      "Epoch 18/100\n",
      "58605/58605 [==============================] - 8s 134us/step - loss: 0.6174 - val_loss: 0.6169\n",
      "Epoch 19/100\n",
      "58605/58605 [==============================] - 7s 119us/step - loss: 0.6173 - val_loss: 0.6167\n",
      "Epoch 20/100\n",
      "58605/58605 [==============================] - 7s 121us/step - loss: 0.6174 - val_loss: 0.6164\n",
      "Epoch 21/100\n",
      "58605/58605 [==============================] - 9s 148us/step - loss: 0.6167 - val_loss: 0.6163\n",
      "Epoch 22/100\n",
      "58605/58605 [==============================] - 8s 130us/step - loss: 0.6167 - val_loss: 0.6162\n",
      "Epoch 23/100\n",
      "58605/58605 [==============================] - 8s 138us/step - loss: 0.6165 - val_loss: 0.6162\n",
      "Epoch 24/100\n",
      "58605/58605 [==============================] - 8s 129us/step - loss: 0.6165 - val_loss: 0.6164\n",
      "Epoch 25/100\n",
      "58605/58605 [==============================] - 7s 125us/step - loss: 0.6164 - val_loss: 0.6159\n",
      "Epoch 26/100\n",
      "58605/58605 [==============================] - 7s 121us/step - loss: 0.6162 - val_loss: 0.6156\n",
      "Epoch 27/100\n",
      "58605/58605 [==============================] - 8s 142us/step - loss: 0.6161 - val_loss: 0.6156\n",
      "Epoch 28/100\n",
      "58605/58605 [==============================] - 9s 162us/step - loss: 0.6161 - val_loss: 0.6157\n",
      "Epoch 29/100\n",
      "58605/58605 [==============================] - 10s 170us/step - loss: 0.6161 - val_loss: 0.6155\n",
      "Epoch 30/100\n",
      "58605/58605 [==============================] - 9s 160us/step - loss: 0.6159 - val_loss: 0.6155\n",
      "Epoch 31/100\n",
      "58605/58605 [==============================] - 10s 167us/step - loss: 0.6160 - val_loss: 0.6156\n",
      "Epoch 32/100\n",
      "58605/58605 [==============================] - 9s 158us/step - loss: 0.6159 - val_loss: 0.6154\n",
      "Epoch 33/100\n",
      "58605/58605 [==============================] - 10s 165us/step - loss: 0.6156 - val_loss: 0.6149\n",
      "Epoch 34/100\n",
      "58605/58605 [==============================] - 10s 168us/step - loss: 0.6155 - val_loss: 0.6149\n",
      "Epoch 35/100\n",
      "58605/58605 [==============================] - 10s 165us/step - loss: 0.6153 - val_loss: 0.6151\n",
      "Epoch 36/100\n",
      "58605/58605 [==============================] - 9s 155us/step - loss: 0.6151 - val_loss: 0.6150\n",
      "Epoch 37/100\n",
      "58605/58605 [==============================] - 10s 169us/step - loss: 0.6152 - val_loss: 0.6147\n",
      "Epoch 38/100\n",
      "58605/58605 [==============================] - 9s 156us/step - loss: 0.6151 - val_loss: 0.6147\n",
      "Epoch 39/100\n",
      "58605/58605 [==============================] - 9s 154us/step - loss: 0.6151 - val_loss: 0.6148\n",
      "Epoch 40/100\n",
      "58605/58605 [==============================] - 9s 156us/step - loss: 0.6151 - val_loss: 0.6149\n",
      "Epoch 41/100\n",
      "58605/58605 [==============================] - 9s 155us/step - loss: 0.6150 - val_loss: 0.6146\n",
      "Epoch 42/100\n",
      "58605/58605 [==============================] - 9s 156us/step - loss: 0.6151 - val_loss: 0.6147\n",
      "Epoch 43/100\n",
      "58605/58605 [==============================] - 9s 161us/step - loss: 0.6150 - val_loss: 0.6147\n",
      "Epoch 44/100\n",
      "58605/58605 [==============================] - 9s 155us/step - loss: 0.6150 - val_loss: 0.6143\n",
      "Epoch 45/100\n",
      "58605/58605 [==============================] - 9s 159us/step - loss: 0.6147 - val_loss: 0.6142\n",
      "Epoch 46/100\n",
      "58605/58605 [==============================] - 9s 156us/step - loss: 0.6147 - val_loss: 0.6143\n",
      "Epoch 47/100\n",
      "58605/58605 [==============================] - 8s 135us/step - loss: 0.6146 - val_loss: 0.6141\n",
      "Epoch 48/100\n",
      "58605/58605 [==============================] - 7s 118us/step - loss: 0.6145 - val_loss: 0.6142\n",
      "Epoch 49/100\n",
      "58605/58605 [==============================] - 7s 117us/step - loss: 0.6145 - val_loss: 0.6141\n",
      "Epoch 50/100\n",
      "58605/58605 [==============================] - 8s 129us/step - loss: 0.6145 - val_loss: 0.6142\n",
      "Epoch 51/100\n",
      "58605/58605 [==============================] - 9s 149us/step - loss: 0.6145 - val_loss: 0.6141\n",
      "Epoch 52/100\n",
      "58605/58605 [==============================] - 7s 115us/step - loss: 0.6144 - val_loss: 0.6139\n",
      "Epoch 53/100\n",
      "58605/58605 [==============================] - 7s 116us/step - loss: 0.6144 - val_loss: 0.6140\n",
      "Epoch 54/100\n",
      "58605/58605 [==============================] - 7s 116us/step - loss: 0.6142 - val_loss: 0.6137\n",
      "Epoch 55/100\n",
      "58605/58605 [==============================] - 7s 118us/step - loss: 0.6142 - val_loss: 0.6137\n",
      "Epoch 56/100\n",
      "58605/58605 [==============================] - 8s 132us/step - loss: 0.6141 - val_loss: 0.6138\n",
      "Epoch 57/100\n",
      "58605/58605 [==============================] - 8s 137us/step - loss: 0.6141 - val_loss: 0.6137\n",
      "Epoch 58/100\n",
      "58605/58605 [==============================] - 7s 121us/step - loss: 0.6140 - val_loss: 0.6137\n",
      "Epoch 59/100\n",
      "58605/58605 [==============================] - 7s 128us/step - loss: 0.6141 - val_loss: 0.6138\n",
      "Epoch 60/100\n",
      "58605/58605 [==============================] - 8s 130us/step - loss: 0.6140 - val_loss: 0.6137\n",
      "Epoch 61/100\n",
      "58605/58605 [==============================] - 8s 129us/step - loss: 0.6140 - val_loss: 0.6138\n",
      "Epoch 62/100\n",
      "58605/58605 [==============================] - 7s 124us/step - loss: 0.6140 - val_loss: 0.6136\n",
      "Epoch 63/100\n",
      "58605/58605 [==============================] - 7s 122us/step - loss: 0.6140 - val_loss: 0.6138\n",
      "Epoch 64/100\n",
      "58605/58605 [==============================] - 7s 121us/step - loss: 0.6139 - val_loss: 0.6135\n",
      "Epoch 65/100\n",
      "58605/58605 [==============================] - 7s 125us/step - loss: 0.6139 - val_loss: 0.6141\n",
      "Epoch 66/100\n",
      "58605/58605 [==============================] - 7s 120us/step - loss: 0.6137 - val_loss: 0.6136\n",
      "Epoch 67/100\n",
      "58605/58605 [==============================] - 7s 122us/step - loss: 0.6137 - val_loss: 0.6133\n",
      "Epoch 68/100\n",
      "58605/58605 [==============================] - 8s 131us/step - loss: 0.6137 - val_loss: 0.6133\n",
      "Epoch 69/100\n",
      "58605/58605 [==============================] - 7s 125us/step - loss: 0.6137 - val_loss: 0.6134\n",
      "Epoch 70/100\n",
      "58605/58605 [==============================] - 7s 124us/step - loss: 0.6136 - val_loss: 0.6137\n",
      "Epoch 71/100\n",
      "58605/58605 [==============================] - 8s 128us/step - loss: 0.6134 - val_loss: 0.6131\n",
      "Epoch 72/100\n",
      "58605/58605 [==============================] - 7s 128us/step - loss: 0.6134 - val_loss: 0.6133\n",
      "Epoch 73/100\n",
      "58605/58605 [==============================] - 8s 136us/step - loss: 0.6134 - val_loss: 0.6132\n",
      "Epoch 74/100\n",
      "58605/58605 [==============================] - 8s 138us/step - loss: 0.6134 - val_loss: 0.6129\n",
      "Epoch 75/100\n",
      "58605/58605 [==============================] - 8s 137us/step - loss: 0.6134 - val_loss: 0.6130\n",
      "Epoch 76/100\n"
     ]
    },
    {
     "name": "stdout",
     "output_type": "stream",
     "text": [
      "58605/58605 [==============================] - 8s 135us/step - loss: 0.6134 - val_loss: 0.6129\n",
      "Epoch 77/100\n",
      "58605/58605 [==============================] - 9s 146us/step - loss: 0.6134 - val_loss: 0.6129\n",
      "Epoch 78/100\n",
      "58605/58605 [==============================] - 8s 131us/step - loss: 0.6133 - val_loss: 0.6130\n",
      "Epoch 79/100\n",
      "58605/58605 [==============================] - 7s 115us/step - loss: 0.6132 - val_loss: 0.6129\n",
      "Epoch 80/100\n",
      "58605/58605 [==============================] - 7s 122us/step - loss: 0.6131 - val_loss: 0.6134\n",
      "Epoch 81/100\n",
      "58605/58605 [==============================] - 8s 135us/step - loss: 0.6131 - val_loss: 0.6126\n",
      "Epoch 82/100\n",
      "58605/58605 [==============================] - 9s 153us/step - loss: 0.6130 - val_loss: 0.6126\n",
      "Epoch 83/100\n",
      "58605/58605 [==============================] - 10s 171us/step - loss: 0.6130 - val_loss: 0.6127\n",
      "Epoch 84/100\n",
      "58605/58605 [==============================] - 9s 159us/step - loss: 0.6130 - val_loss: 0.6127\n",
      "Epoch 85/100\n",
      "58605/58605 [==============================] - 9s 157us/step - loss: 0.6129 - val_loss: 0.6128\n",
      "Epoch 86/100\n",
      "58605/58605 [==============================] - 9s 158us/step - loss: 0.6130 - val_loss: 0.6125\n",
      "Epoch 87/100\n",
      "58605/58605 [==============================] - 9s 156us/step - loss: 0.6129 - val_loss: 0.6125\n",
      "Epoch 88/100\n",
      "58605/58605 [==============================] - 9s 156us/step - loss: 0.6129 - val_loss: 0.6124\n",
      "Epoch 89/100\n",
      "58605/58605 [==============================] - 9s 156us/step - loss: 0.6129 - val_loss: 0.6123\n",
      "Epoch 90/100\n",
      "58605/58605 [==============================] - 10s 163us/step - loss: 0.6127 - val_loss: 0.6124\n",
      "Epoch 91/100\n",
      "58605/58605 [==============================] - 9s 156us/step - loss: 0.6126 - val_loss: 0.6128\n",
      "Epoch 92/100\n",
      "58605/58605 [==============================] - 9s 156us/step - loss: 0.6127 - val_loss: 0.6125\n",
      "Epoch 93/100\n",
      "58605/58605 [==============================] - 9s 157us/step - loss: 0.6126 - val_loss: 0.6123\n",
      "Epoch 94/100\n",
      "58605/58605 [==============================] - 9s 159us/step - loss: 0.6126 - val_loss: 0.6122\n",
      "Epoch 95/100\n",
      "58605/58605 [==============================] - 9s 156us/step - loss: 0.6126 - val_loss: 0.6124\n",
      "Epoch 96/100\n",
      "58605/58605 [==============================] - 9s 154us/step - loss: 0.6126 - val_loss: 0.6122\n",
      "Epoch 97/100\n",
      "58605/58605 [==============================] - 10s 163us/step - loss: 0.6126 - val_loss: 0.6129\n",
      "Epoch 98/100\n",
      "58605/58605 [==============================] - 9s 157us/step - loss: 0.6125 - val_loss: 0.6121\n",
      "Epoch 99/100\n",
      "58605/58605 [==============================] - 9s 155us/step - loss: 0.6126 - val_loss: 0.6122\n",
      "Epoch 100/100\n",
      "58605/58605 [==============================] - 8s 130us/step - loss: 0.6125 - val_loss: 0.6122\n"
     ]
    },
    {
     "data": {
      "text/plain": [
       "<keras.callbacks.History at 0x7f831ee57e10>"
      ]
     },
     "execution_count": 6,
     "metadata": {},
     "output_type": "execute_result"
    }
   ],
   "source": [
    "n_epochs = 100\n",
    "batch_size = 512\n",
    "\n",
    "model.fit(X_train, X_train, epochs=n_epochs, batch_size=batch_size, shuffle=True, validation_split=0.2)"
   ]
  },
  {
   "cell_type": "markdown",
   "metadata": {},
   "source": [
    "### Performs autoencoder on the training set"
   ]
  },
  {
   "cell_type": "code",
   "execution_count": 7,
   "metadata": {
    "collapsed": true
   },
   "outputs": [],
   "source": [
    "pred = model.predict(X_train)"
   ]
  },
  {
   "cell_type": "markdown",
   "metadata": {},
   "source": [
    "### Plot some of the original images and their decoded versions"
   ]
  },
  {
   "cell_type": "code",
   "execution_count": 10,
   "metadata": {},
   "outputs": [
    {
     "data": {
      "image/png": "[encoded data removed]",
      "text/plain": [
       "<matplotlib.figure.Figure at 0x7f82c8d89b70>"
      ]
     },
     "metadata": {},
     "output_type": "display_data"
    },
    {
     "name": "stdout",
     "output_type": "stream",
     "text": [
      "Example input and output of an autoencoder network for house numbers\n"
     ]
    }
   ],
   "source": [
    "n = 5\n",
    "plt.figure(figsize=(15, 5))\n",
    "for i in range(n):\n",
    "    # plot original\n",
    "    ax = plt.subplot(2, n, i + 1)\n",
    "    plt.imshow(img_gray[i].reshape(32, 32), cmap='gray')\n",
    "\n",
    "    ax = plt.subplot(2, n, i + 1 + n)\n",
    "    plt.imshow(pred[i].reshape(32, 32), cmap='gray')\n",
    "plt.show()\n",
    "print (\"Example input and output of an autoencoder network for house numbers\")"
   ]
  }
 ],
 "metadata": {
  "kernelspec": {
   "display_name": "Python 3",
   "language": "python",
   "name": "python3"
  },
  "language_info": {
   "codemirror_mode": {
    "name": "ipython",
    "version": 3
   },
   "file_extension": ".py",
   "mimetype": "text/x-python",
   "name": "python",
   "nbconvert_exporter": "python",
   "pygments_lexer": "ipython3",
   "version": "3.6.2"
  },
  "widgets": {
   "state": {},
   "version": "1.1.2"
  }
 },
 "nbformat": 4,
 "nbformat_minor": 2
}
